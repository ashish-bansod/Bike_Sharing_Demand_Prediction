{
  "nbformat": 4,
  "nbformat_minor": 0,
  "metadata": {
    "colab": {
      "private_outputs": true,
      "provenance": [],
      "collapsed_sections": [
        "vncDsAP0Gaoa",
        "FJNUwmbgGyua",
        "w6K7xa23Elo4",
        "yQaldy8SH6Dl",
        "mDgbUHAGgjLW",
        "O_i_v8NEhb9l",
        "HhfV-JJviCcP",
        "Y3lxredqlCYt",
        "3RnN4peoiCZX",
        "x71ZqKXriCWQ",
        "7hBIi_osiCS2",
        "JlHwYmJAmNHm",
        "35m5QtbWiB9F",
        "PoPl-ycgm1ru",
        "H0kj-8xxnORC",
        "nA9Y7ga8ng1Z",
        "PBTbrJXOngz2",
        "u3PMJOP6ngxN",
        "dauF4eBmngu3",
        "bKJF3rekwFvQ",
        "MSa1f5Uengrz",
        "GF8Ens_Soomf",
        "0wOQAZs5pc--",
        "K5QZ13OEpz2H",
        "lQ7QKXXCp7Bj",
        "448CDAPjqfQr",
        "KSlN3yHqYklG",
        "t6dVpIINYklI",
        "ijmpgYnKYklI",
        "-JiQyfWJYklI",
        "EM7whBJCYoAo",
        "fge-S5ZAYoAp",
        "85gYPyotYoAp",
        "RoGjAbkUYoAp",
        "4Of9eVA-YrdM",
        "iky9q4vBYrdO",
        "F6T5p64dYrdO",
        "y-Ehk30pYrdP",
        "bamQiAODYuh1",
        "QHF8YVU7Yuh3",
        "GwzvFGzlYuh3",
        "qYpmQ266Yuh3",
        "OH-pJp9IphqM",
        "bbFf2-_FphqN",
        "_ouA3fa0phqN",
        "Seke61FWphqN",
        "PIIx-8_IphqN",
        "t27r6nlMphqO",
        "r2jJGEOYphqO",
        "b0JNsNcRphqO",
        "BZR9WyysphqO",
        "jj7wYXLtphqO",
        "eZrbJ2SmphqO",
        "rFu4xreNphqO",
        "YJ55k-q6phqO",
        "gCFgpxoyphqP",
        "OVtJsKN_phqQ",
        "lssrdh5qphqQ",
        "U2RJ9gkRphqQ",
        "1M8mcRywphqQ",
        "tgIPom80phqQ",
        "JMzcOPDDphqR",
        "x-EpHcCOp1ci",
        "X_VqEhTip1ck",
        "8zGJKyg5p1ck",
        "PVzmfK_Ep1ck",
        "n3dbpmDWp1ck",
        "ylSl6qgtp1ck",
        "ZWILFDl5p1ck",
        "M7G43BXep1ck",
        "Ag9LCva-p1cl",
        "E6MkPsBcp1cl",
        "2cELzS2fp1cl",
        "3MPXvC8up1cl",
        "NC_X3p0fY2L0",
        "UV0SzAkaZNRQ",
        "YPEH6qLeZNRQ",
        "q29F0dvdveiT",
        "EXh0U9oCveiU",
        "22aHeOlLveiV",
        "g-ATYxFrGrvw",
        "Yfr_Vlr8HBkt",
        "8yEUt7NnHlrM",
        "tEA2Xm5dHt1r",
        "I79__PHVH19G",
        "Ou-I18pAyIpj",
        "fF3858GYyt-u",
        "4_0_7-oCpUZd",
        "hwyV_J3ipUZe",
        "3yB-zSqbpUZe",
        "dEUvejAfpUZe",
        "Fd15vwWVpUZf",
        "bn_IUdTipZyH",
        "49K5P_iCpZyH",
        "Nff-vKELpZyI",
        "kLW572S8pZyI",
        "dWbDXHzopZyI",
        "yLjJCtPM0KBk",
        "xiyOF9F70UgQ",
        "7wuGOrhz0itI",
        "id1riN9m0vUs",
        "578E2V7j08f6",
        "89xtkJwZ18nB",
        "67NQN5KX2AMe",
        "Iwf50b-R2tYG",
        "GMQiZwjn3iu7",
        "WVIkgGqN3qsr",
        "XkPnILGE3zoT",
        "Hlsf0x5436Go",
        "mT9DMSJo4nBL",
        "c49ITxTc407N",
        "OeJFEK0N496M",
        "9ExmJH0g5HBk",
        "cJNqERVU536h",
        "k5UmGsbsOxih",
        "T0VqWOYE6DLQ",
        "qBMux9mC6MCf",
        "-oLEiFgy-5Pf",
        "C74aWNz2AliB",
        "2DejudWSA-a0",
        "pEMng2IbBLp7",
        "rAdphbQ9Bhjc",
        "TNVZ9zx19K6k",
        "nqoHp30x9hH9",
        "rMDnDkt2B6du",
        "yiiVWRdJDDil",
        "1UUpS68QDMuG",
        "kexQrXU-DjzY",
        "T5CmagL3EC8N",
        "BhH2vgX9EjGr",
        "qjKvONjwE8ra",
        "P1XJ9OREExlT",
        "VFOzZv6IFROw",
        "TIqpNgepFxVj",
        "VfCC591jGiD4",
        "OB4l2ZhMeS1U",
        "ArJBuiUVfxKd",
        "4qY1EAkEfxKe",
        "PiV4Ypx8fxKe",
        "TfvqoZmBfxKf",
        "dJ2tPlVmpsJ0",
        "JWYfwnehpsJ1",
        "-jK_YjpMpsJ2",
        "HAih1iBOpsJ2",
        "zVGeBEFhpsJ2",
        "bmKjuQ-FpsJ3",
        "Fze-IPXLpx6K",
        "7AN1z2sKpx6M",
        "9PIHJqyupx6M",
        "_-qAgymDpx6N",
        "Z-hykwinpx6N",
        "h_CCil-SKHpo",
        "cBFFvTBNJzUa",
        "HvGl1hHyA_VK",
        "EyNgTHvd2WFk",
        "KH5McJBi2d8v",
        "iW_Lq9qf2h6X",
        "-Kee-DAl2viO",
        "gCX9965dhzqZ",
        "gIfDvo9L0UH2"
      ],
      "include_colab_link": true
    },
    "kernelspec": {
      "name": "python3",
      "display_name": "Python 3"
    },
    "language_info": {
      "name": "python"
    }
  },
  "cells": [
    {
      "cell_type": "markdown",
      "metadata": {
        "id": "view-in-github",
        "colab_type": "text"
      },
      "source": [
        "<a href=\"https://colab.research.google.com/github/ashish-bansod/Bike_Sharing_Demand_Prediction/blob/main/Bike_Sharing_Demand_Prediction_2.ipynb\" target=\"_parent\"><img src=\"https://colab.research.google.com/assets/colab-badge.svg\" alt=\"Open In Colab\"/></a>"
      ]
    },
    {
      "cell_type": "markdown",
      "source": [
        "# **Project Name**    - Bike Sharing Demand Prediction\n",
        "\n"
      ],
      "metadata": {
        "id": "vncDsAP0Gaoa"
      }
    },
    {
      "cell_type": "markdown",
      "source": [
        "### **Project Type**    - *Regression*\n",
        "### **Contribution**    - Individual - *Ashish Bansod*\n"
      ],
      "metadata": {
        "id": "beRrZCGUAJYm"
      }
    },
    {
      "cell_type": "markdown",
      "source": [
        "# **Project Summary**"
      ],
      "metadata": {
        "id": "FJNUwmbgGyua"
      }
    },
    {
      "cell_type": "markdown",
      "source": [
        "The emergence of bike and scooter ride-sharing companies in urban areas, has created a challenge in accurately predicting the demand for their services. Overestimating or underestimating the demand can lead to resource wastage or revenue loss, respectively. To address this challenge, a project aims to combine historical bike usage patterns with weather data to forecast bike rental demand.\n",
        "\n",
        "The project utilizes a dataset with input variables: 'Date', 'Seasons', 'Holiday', 'Functional day', 'Temperature', 'Humidity', 'Dew Point Temperature', and 'Windspeed'. Python libraries such as Pandas, Seaborn, NumPy, and scikit-learn (sklearn) are used to develop the prediction algorithm. By evaluating different models, the project seeks to identify algorithms that provide accurate predictions and can be deployed effectively in real-world scenarios.\n",
        "\n",
        "Accurate bike rental demand forecasting offers significant benefits. Ride-sharing companies can reduce waste and improve resource allocation, resulting in cost savings and increased profitability. By optimizing bike maintenance, parking space allocation, and operational planning based on anticipated demand, these companies can operate more efficiently.\n",
        "\n",
        "Moreover, accurate demand predictions enhance customer satisfaction and provide a better overall experience for users. By ensuring an adequate supply of bikes and scooters based on anticipated demand, customers are less likely to face unavailability issues. This fosters customer loyalty, positive word-of-mouth, and sustained business growth.\n",
        "\n",
        "Additionally, bike and scooter ride-sharing services are considered environmentally friendly alternatives to traditional transportation methods. By incorporating weather data into demand forecasting, it becomes possible to align the supply of bikes and scooters with weather conditions suitable for cycling. This encourages more people to choose biking as a means of transportation, resulting in reduced traffic congestion and lower carbon emissions. Accurate demand forecasting contributes to the broader goal of promoting sustainable and eco-friendly urban mobility.\n",
        "\n",
        "In conclusion, the project's aim to combine historical bike usage patterns with weather data for accurate demand forecasting holds significant potential for the bike and scooter ride-sharing industry. By utilizing advanced algorithms and machine learning techniques, the project seeks to optimize resource allocation, reduce waste, and increase profitability for ride-sharing companies. Simultaneously, it strives to enhance customer satisfaction, promote environmentally friendly transportation alternatives, and mitigate traffic congestion and carbon emissions. Data-driven insights can have a positive impact on both the business and environmental aspects of the bike and scooter ride-sharing industry, leading to a more sustainable and efficient urban mobility landscape.\n"
      ],
      "metadata": {
        "id": "F6v_1wHtG2nS"
      }
    },
    {
      "cell_type": "markdown",
      "source": [
        "# **GitHub Link -**"
      ],
      "metadata": {
        "id": "w6K7xa23Elo4"
      }
    },
    {
      "cell_type": "markdown",
      "source": [
        "https://github.com/ashish-bansod/Bike_Sharing_Demand_Prediction"
      ],
      "metadata": {
        "id": "h1o69JH3Eqqn"
      }
    },
    {
      "cell_type": "markdown",
      "source": [
        "# **Problem Statement**\n"
      ],
      "metadata": {
        "id": "yQaldy8SH6Dl"
      }
    },
    {
      "cell_type": "markdown",
      "source": [
        "**Currently Rental bikes are introduced in many urban cities for the enhancement of mobility comfort. It is important to make the rental bike available and accessible to the public at the right time as it lessens the waiting time. Eventually, providing the city with a stable supply of rental bikes becomes a major concern. The crucial part is the prediction of bike count required at each hour for the stable supply of rental bikes.**"
      ],
      "metadata": {
        "id": "DpeJGUA3kjGy"
      }
    },
    {
      "cell_type": "markdown",
      "source": [
        "# **Data Description**"
      ],
      "metadata": {
        "id": "ce0-SI7BGJsZ"
      }
    },
    {
      "cell_type": "markdown",
      "source": [
        "* **Date** - day/month/year\n",
        "* **Rented Bike count** - Count of bikes rented per hour\n",
        "* **Hour** - Hour of the day\n",
        "* **Temperature**-Temperature in Celsius\n",
        "* **Humidity** - Humidity in the air in %\n",
        "* **Windspeed** - Speed of the wind in  m/s\n",
        "* **Visibility** - Visibility in m (10m)\n",
        "* **Dew point temperature** - Temperature at the beggining of the day(Celsius)\n",
        "* **Solar radiation** -Sun contribution (MJ/m2)\n",
        "* **Rainfall** - Amount of raining in mm\n",
        "* **Snowfall** - Amount of snowing in cm\n",
        "* **Seasons** - Winter, Spring, Summer, Autumn\n",
        "* **Holiday** - Holiday/No holiday\n",
        "* **Functional Day** -  If the day is a Functioning Day or not"
      ],
      "metadata": {
        "id": "ma9M188cGgZe"
      }
    },
    {
      "cell_type": "markdown",
      "source": [
        "# **General Guidelines** : -  "
      ],
      "metadata": {
        "id": "mDgbUHAGgjLW"
      }
    },
    {
      "cell_type": "markdown",
      "source": [
        "1.   Well-structured, formatted, and commented code is required.\n",
        "2.   Exception Handling, Production Grade Code & Deployment Ready Code will be a plus. Those students will be awarded some additional credits.\n",
        "     \n",
        "     The additional credits will have advantages over other students during Star Student selection.\n",
        "       \n",
        "             [ Note: - Deployment Ready Code is defined as, the whole .ipynb notebook should be executable in one go\n",
        "                       without a single error logged. ]\n",
        "\n",
        "3.   Each and every logic should have proper comments.\n",
        "4. You may add as many number of charts you want. Make Sure for each and every chart the following format should be answered.\n",
        "        \n",
        "\n",
        "```\n",
        "# Chart visualization code\n",
        "```\n",
        "            \n",
        "\n",
        "*   Why did you pick the specific chart?\n",
        "*   What is/are the insight(s) found from the chart?\n",
        "* Will the gained insights help creating a positive business impact?\n",
        "Are there any insights that lead to negative growth? Justify with specific reason.\n",
        "\n",
        "5. You have to create at least 15 logical & meaningful charts having important insights.\n",
        "\n",
        "\n",
        "[ Hints : - Do the Vizualization in  a structured way while following \"UBM\" Rule.\n",
        "\n",
        "U - Univariate Analysis,\n",
        "\n",
        "B - Bivariate Analysis (Numerical - Categorical, Numerical - Numerical, Categorical - Categorical)\n",
        "\n",
        "M - Multivariate Analysis\n",
        " ]\n",
        "\n",
        "\n",
        "\n",
        "\n",
        "\n",
        "6. You may add more ml algorithms for model creation. Make sure for each and every algorithm, the following format should be answered.\n",
        "\n",
        "\n",
        "*   Explain the ML Model used and it's performance using Evaluation metric Score Chart.\n",
        "\n",
        "\n",
        "*   Cross- Validation & Hyperparameter Tuning\n",
        "\n",
        "*   Have you seen any improvement? Note down the improvement with updates Evaluation metric Score Chart.\n",
        "\n",
        "*   Explain each evaluation metric's indication towards business and the business impact pf the ML model used.\n",
        "\n",
        "\n",
        "\n",
        "\n",
        "\n",
        "\n",
        "\n",
        "\n",
        "\n",
        "\n",
        "\n",
        "\n",
        "\n",
        "\n",
        "\n",
        "\n",
        "\n",
        "\n"
      ],
      "metadata": {
        "id": "ZrxVaUj-hHfC"
      }
    },
    {
      "cell_type": "markdown",
      "source": [
        "# ***Let's Begin !***"
      ],
      "metadata": {
        "id": "O_i_v8NEhb9l"
      }
    },
    {
      "cell_type": "markdown",
      "source": [
        "## ***1. Know Your Data***"
      ],
      "metadata": {
        "id": "HhfV-JJviCcP"
      }
    },
    {
      "cell_type": "markdown",
      "source": [
        "### Import Libraries"
      ],
      "metadata": {
        "id": "Y3lxredqlCYt"
      }
    },
    {
      "cell_type": "code",
      "source": [
        "# Import Libraries\n",
        "import pandas as pd\n",
        "import numpy as np\n",
        "import matplotlib.pyplot as plt\n",
        "%matplotlib inline\n",
        "import seaborn as sns\n",
        "\n",
        "from datetime import datetime\n",
        "import datetime as dt\n",
        "\n",
        "from sklearn.model_selection import train_test_split,cross_validate,GridSearchCV,RandomizedSearchCV\n",
        "\n",
        "from sklearn.preprocessing import MinMaxScaler,OneHotEncoder,OrdinalEncoder,LabelEncoder\n",
        "\n",
        "from sklearn.linear_model import LinearRegression,Lasso,Ridge,ElasticNet\n",
        "\n",
        "from sklearn.metrics import accuracy_score,mean_absolute_error,mean_squared_error,r2_score,log_loss\n",
        "\n",
        "pd.set_option('display.max_column',20)\n",
        "\n",
        "import warnings\n",
        "warnings.filterwarnings('ignore')"
      ],
      "metadata": {
        "id": "M8Vqi-pPk-HR"
      },
      "execution_count": null,
      "outputs": []
    },
    {
      "cell_type": "markdown",
      "source": [
        "### Dataset Loading"
      ],
      "metadata": {
        "id": "3RnN4peoiCZX"
      }
    },
    {
      "cell_type": "code",
      "source": [
        "# Load Dataset\n",
        "bike_df=pd.read_csv('/content/SeoulBikeData.csv',encoding='latin')"
      ],
      "metadata": {
        "id": "4CkvbW_SlZ_R"
      },
      "execution_count": null,
      "outputs": []
    },
    {
      "cell_type": "markdown",
      "source": [
        "### Dataset First View"
      ],
      "metadata": {
        "id": "x71ZqKXriCWQ"
      }
    },
    {
      "cell_type": "code",
      "source": [
        "# Dataset First Look\n",
        "bike_df.sample(5)"
      ],
      "metadata": {
        "id": "LWNFOSvLl09H"
      },
      "execution_count": null,
      "outputs": []
    },
    {
      "cell_type": "markdown",
      "source": [
        "### Dataset Rows & Columns count"
      ],
      "metadata": {
        "id": "7hBIi_osiCS2"
      }
    },
    {
      "cell_type": "code",
      "source": [
        "# Dataset Rows & Columns count\n",
        "\n",
        "print('Total no. of rows: ' , len(bike_df.index))\n",
        "print('\\n')\n",
        "print('Total no. of columns: ', len(bike_df.columns))"
      ],
      "metadata": {
        "id": "Kllu7SJgmLij"
      },
      "execution_count": null,
      "outputs": []
    },
    {
      "cell_type": "markdown",
      "source": [
        "### Dataset Information"
      ],
      "metadata": {
        "id": "JlHwYmJAmNHm"
      }
    },
    {
      "cell_type": "code",
      "source": [
        "# Dataset Info\n",
        "bike_df.info()"
      ],
      "metadata": {
        "id": "e9hRXRi6meOf"
      },
      "execution_count": null,
      "outputs": []
    },
    {
      "cell_type": "markdown",
      "source": [
        "#### Duplicate Values"
      ],
      "metadata": {
        "id": "35m5QtbWiB9F"
      }
    },
    {
      "cell_type": "code",
      "source": [
        "# Dataset Duplicate Value Count\n",
        "bike_df.duplicated().sum()"
      ],
      "metadata": {
        "id": "1sLdpKYkmox0"
      },
      "execution_count": null,
      "outputs": []
    },
    {
      "cell_type": "markdown",
      "source": [
        "#### Missing Values/Null Values"
      ],
      "metadata": {
        "id": "PoPl-ycgm1ru"
      }
    },
    {
      "cell_type": "code",
      "source": [
        "# Missing Values/Null Values Count\n",
        "bike_df.isnull().sum()"
      ],
      "metadata": {
        "id": "GgHWkxvamxVg"
      },
      "execution_count": null,
      "outputs": []
    },
    {
      "cell_type": "code",
      "source": [
        "# Visualizing the missing values\n",
        "missing_values_per = pd.DataFrame((bike_df.isnull().sum() / len(bike_df)) * 100).reset_index()\n",
        "missing_values_per.columns = ['Column', 'Missing Percentage']\n",
        "\n",
        "plt.figure(figsize=(15, 5))\n",
        "plt.stem(missing_values_per['Column'], missing_values_per['Missing Percentage'])\n",
        "plt.xlabel('Columns',color='blue')\n",
        "plt.ylabel('Missing Percentage',color='blue')\n",
        "plt.title('Missing Values Percentage per Column',bbox={'facecolor':'blue', 'alpha':0.5})\n",
        "plt.xticks(rotation=80)\n",
        "plt.tight_layout()\n",
        "plt.show()"
      ],
      "metadata": {
        "id": "3q5wnI3om9sJ"
      },
      "execution_count": null,
      "outputs": []
    },
    {
      "cell_type": "markdown",
      "source": [
        "### What did you know about your dataset?"
      ],
      "metadata": {
        "id": "H0kj-8xxnORC"
      }
    },
    {
      "cell_type": "markdown",
      "source": [
        "**There are no missing  and duplicate values present in our Dataset.Our data contains 8760 rows and 14 columns.**"
      ],
      "metadata": {
        "id": "gfoNAAC-nUe_"
      }
    },
    {
      "cell_type": "markdown",
      "source": [
        "## ***2. Understanding Your Variables***"
      ],
      "metadata": {
        "id": "nA9Y7ga8ng1Z"
      }
    },
    {
      "cell_type": "code",
      "source": [
        "# Dataset Columns\n",
        "bike_df.columns"
      ],
      "metadata": {
        "id": "j7xfkqrt5Ag5"
      },
      "execution_count": null,
      "outputs": []
    },
    {
      "cell_type": "code",
      "source": [
        "# Renaming Columns\n",
        "bike_df=bike_df.rename(columns={'Rented Bike Count':'Rented_Bike_Count',\n",
        "                                'Temperature(°C)':'Temperature',\n",
        "                                'Humidity(%)':'Humidity',\n",
        "                                'Wind speed (m/s)':'Wind_speed',\n",
        "                                'Visibility (10m)':'Visibility',\n",
        "                                'Dew point temperature(°C)':'Dew_point_temperature',\n",
        "                                'Solar Radiation (MJ/m2)':'Solar_Radiation',\n",
        "                                'Rainfall(mm)':'Rainfall',\n",
        "                                'Snowfall (cm)':'Snowfall',\n",
        "                                'Functioning Day':'Functioning_Day'})"
      ],
      "metadata": {
        "id": "Lf-qsaosNKpQ"
      },
      "execution_count": null,
      "outputs": []
    },
    {
      "cell_type": "code",
      "source": [
        "# Dataset Describe\n",
        "bike_df.describe(include='all')"
      ],
      "metadata": {
        "id": "DnOaZdaE5Q5t"
      },
      "execution_count": null,
      "outputs": []
    },
    {
      "cell_type": "markdown",
      "source": [
        "### Variables Description"
      ],
      "metadata": {
        "id": "PBTbrJXOngz2"
      }
    },
    {
      "cell_type": "markdown",
      "source": [
        "* **Date** - day/month/year\n",
        "* **Rented Bike count** - Count of bikes rented per hour\n",
        "* **Hour** - Hour of the day\n",
        "* **Temperature**-Temperature in Celsius\n",
        "* **Humidity** - Humidity in the air in %\n",
        "* **Windspeed** - Speed of the wind in  m/s\n",
        "* **Visibility** - Visibility in m (10m)\n",
        "* **Dew point temperature** - Temperature at the beggining of the day(Celsius)\n",
        "* **Solar radiation** -Sun contribution (MJ/m2)\n",
        "* **Rainfall** - Amount of raining in mm\n",
        "* **Snowfall** - Amount of snowing in cm\n",
        "* **Seasons** - Winter, Spring, Summer, Autumn\n",
        "* **Holiday** - Holiday/No holiday\n",
        "* **Functional Day** -  If the day is a Functioning Day or not"
      ],
      "metadata": {
        "id": "aJV4KIxSnxay"
      }
    },
    {
      "cell_type": "markdown",
      "source": [
        "### Check Unique Values for each variable."
      ],
      "metadata": {
        "id": "u3PMJOP6ngxN"
      }
    },
    {
      "cell_type": "code",
      "source": [
        "# Check Unique Values for each variable.\n",
        "\n",
        "unique_values_per_variable = bike_df.apply(lambda column: column.unique())\n",
        "print(unique_values_per_variable)"
      ],
      "metadata": {
        "id": "zms12Yq5n-jE"
      },
      "execution_count": null,
      "outputs": []
    },
    {
      "cell_type": "code",
      "source": [
        "# Number of Unique values in each columns\n",
        "\n",
        "bike_df.nunique().sort_values(ascending=False)"
      ],
      "metadata": {
        "id": "rZyt5uaJVV6Z"
      },
      "execution_count": null,
      "outputs": []
    },
    {
      "cell_type": "markdown",
      "source": [
        "## 3. ***Data Wrangling***"
      ],
      "metadata": {
        "id": "dauF4eBmngu3"
      }
    },
    {
      "cell_type": "markdown",
      "source": [
        "### Data Wrangling Code"
      ],
      "metadata": {
        "id": "bKJF3rekwFvQ"
      }
    },
    {
      "cell_type": "code",
      "source": [
        "# Write your code to make your dataset analysis ready."
      ],
      "metadata": {
        "id": "wk-9a2fpoLcV"
      },
      "execution_count": null,
      "outputs": []
    },
    {
      "cell_type": "code",
      "source": [
        "bike_df.info()"
      ],
      "metadata": {
        "id": "Tqhk8IjfRJn3"
      },
      "execution_count": null,
      "outputs": []
    },
    {
      "cell_type": "code",
      "source": [
        "# convert data type of 'Date' column to Datetime format\n",
        "bike_df['Date'].dtype"
      ],
      "metadata": {
        "id": "cFEG8hsHai8c"
      },
      "execution_count": null,
      "outputs": []
    },
    {
      "cell_type": "code",
      "source": [
        "bike_df['Date']=bike_df['Date'].apply(lambda x: datetime.strptime(x,'%d/%m/%Y'))"
      ],
      "metadata": {
        "id": "-F6c83vjapSo"
      },
      "execution_count": null,
      "outputs": []
    },
    {
      "cell_type": "code",
      "source": [
        "bike_df['Date'].dtype"
      ],
      "metadata": {
        "id": "vdM9lOYDaw8P"
      },
      "execution_count": null,
      "outputs": []
    },
    {
      "cell_type": "code",
      "source": [
        "# Extracting: 'day' , 'month' and  'year'  from 'Date' column:\n",
        "bike_df['day']=bike_df['Date'].dt.day_name()\n",
        "bike_df['month']=bike_df['Date'].dt.month\n",
        "bike_df['year']=bike_df['Date'].dt.year"
      ],
      "metadata": {
        "id": "VmvS-XYKa4vT"
      },
      "execution_count": null,
      "outputs": []
    },
    {
      "cell_type": "code",
      "source": [
        "bike_df.sample(5)"
      ],
      "metadata": {
        "id": "HN9EnmO5nUp_"
      },
      "execution_count": null,
      "outputs": []
    },
    {
      "cell_type": "code",
      "source": [
        "bike_df['day'].unique()"
      ],
      "metadata": {
        "id": "zwQfB2aSbCuC"
      },
      "execution_count": null,
      "outputs": []
    },
    {
      "cell_type": "code",
      "source": [
        "# Creating new column named: 'weekend'\n",
        "bike_df['weekend']=bike_df['day'].apply(lambda x: 1 if x== 'Saturday' or x== 'Sunday' else 0)"
      ],
      "metadata": {
        "id": "xkD1lLmfnxtt"
      },
      "execution_count": null,
      "outputs": []
    },
    {
      "cell_type": "code",
      "source": [
        "bike_df['weekend'].value_counts()"
      ],
      "metadata": {
        "id": "bHH7nWXTnxWV"
      },
      "execution_count": null,
      "outputs": []
    },
    {
      "cell_type": "code",
      "source": [
        "# Drop columns: 'Date', 'day' and 'year'\n",
        "bike_df.drop([ 'Date','day','year'],axis=1,inplace=True)"
      ],
      "metadata": {
        "id": "XLnb0nHPnxS4"
      },
      "execution_count": null,
      "outputs": []
    },
    {
      "cell_type": "code",
      "source": [
        "bike_df.sample(3)"
      ],
      "metadata": {
        "id": "_uD3SRd7nxOK"
      },
      "execution_count": null,
      "outputs": []
    },
    {
      "cell_type": "markdown",
      "source": [
        "### What all manipulations have you done and insights you found?"
      ],
      "metadata": {
        "id": "MSa1f5Uengrz"
      }
    },
    {
      "cell_type": "markdown",
      "source": [
        "###***The \"Date\" column, initially read as a string by Python, is essential for analyzing user behavior. To enable precise analysis, it is necessary to convert the column into a datetime format. Once converted, it can be separated into three separate columns: \"year,\" \"month,\" and \"day.\" These columns represent distinct temporal components and allow for more efficient categorization and analysis of the data, providing valuable insights into user behavior patterns.***"
      ],
      "metadata": {
        "id": "LbyXE7I1olp8"
      }
    },
    {
      "cell_type": "markdown",
      "source": [
        "## ***4. Data Vizualization, Storytelling & Experimenting with charts : Understand the relationships between variables***"
      ],
      "metadata": {
        "id": "GF8Ens_Soomf"
      }
    },
    {
      "cell_type": "markdown",
      "source": [
        "## ***UNIVARIATE ANALYSIS***"
      ],
      "metadata": {
        "id": "YQ2jYZkD9tIQ"
      }
    },
    {
      "cell_type": "markdown",
      "source": [
        "#### Chart - 1"
      ],
      "metadata": {
        "id": "0wOQAZs5pc--"
      }
    },
    {
      "cell_type": "code",
      "source": [
        "# Chart - 1 visualization code\n",
        "bike_df['Rented_Bike_Count'].value_counts().sort_values(ascending=False)"
      ],
      "metadata": {
        "id": "7v_ESjsspbW7"
      },
      "execution_count": null,
      "outputs": []
    },
    {
      "cell_type": "code",
      "source": [
        "# Chart - 1 : Distribution of Dependent variable\n",
        "\n",
        "fig, (ax1,ax2) = plt.subplots(1,2,figsize=(18,6))\n",
        "sns.kdeplot(bike_df,x='Rented_Bike_Count',fill=True,color='b',ax=ax1)\n",
        "ax1.axvline(bike_df['Rented_Bike_Count'].mean(), color='salmon', linestyle='dashed', linewidth=2)\n",
        "ax1.axvline(bike_df['Rented_Bike_Count'].median(), color='royalblue', linestyle=':', linewidth=2)\n",
        "sns.boxplot(bike_df,x='Rented_Bike_Count',ax=ax2,palette=\"viridis\")\n",
        "ax1.set_xlabel('Rented Bike Count', color='blue')\n",
        "ax1.set_ylabel('Density', color='blue')\n",
        "\n",
        "ax2.set_xlabel('Rented Bike Count', color='blue')\n",
        "plt.show()"
      ],
      "metadata": {
        "id": "lPV5fP_rzVnG"
      },
      "execution_count": null,
      "outputs": []
    },
    {
      "cell_type": "markdown",
      "source": [
        "#####  What is/are the insight(s) found from the chart?"
      ],
      "metadata": {
        "id": "lQ7QKXXCp7Bj"
      }
    },
    {
      "cell_type": "markdown",
      "source": [
        "**The dependent variable is positively skewed and have lot more outliers**"
      ],
      "metadata": {
        "id": "C_j1G7yiqdRP"
      }
    },
    {
      "cell_type": "markdown",
      "source": [
        "#####  Will the gained insights help creating a positive business impact?\n",
        "Are there any insights that lead to negative growth? Justify with specific reason."
      ],
      "metadata": {
        "id": "448CDAPjqfQr"
      }
    },
    {
      "cell_type": "markdown",
      "source": [
        "**The gained insights from analyzing data with a positively skewed dependent variable (Bike rented count) and a high number of outliers can potentially create a positive business impact. However, the presence of outliers suggests instances where there are extremely high bike rental counts, which may indicate exceptional demand spikes or anomalies. While this may not directly lead to negative growth, it can pose challenges in capacity planning, resource allocation, and service delivery, requiring businesses to carefully manage and optimize operations to meet customer demand and prevent potential negative impacts on customer satisfaction and business growth.**"
      ],
      "metadata": {
        "id": "3cspy4FjqxJW"
      }
    },
    {
      "cell_type": "markdown",
      "source": [
        "#### Chart - 2"
      ],
      "metadata": {
        "id": "KSlN3yHqYklG"
      }
    },
    {
      "cell_type": "code",
      "source": [
        "# Chart - 2 visualization code\n",
        "num_features=bike_df.drop('Rented_Bike_Count',axis=1).describe().columns\n",
        "num_features"
      ],
      "metadata": {
        "id": "R4YgtaqtYklH"
      },
      "execution_count": null,
      "outputs": []
    },
    {
      "cell_type": "code",
      "source": [
        "# Chart - 2 : Distribution of Numerical Features\n",
        "for var in num_features:\n",
        "  fig,(ax1,ax2)=plt.subplots(1,2,figsize=(18,5))\n",
        "  sns.kdeplot(bike_df,x=var,fill=True,ax=ax1,color='b')\n",
        "  ax1.axvline(bike_df[var].mean(),color='salmon', linestyle='dashed', linewidth=2)\n",
        "  ax1.axvline(bike_df[var].median(),color='royalblue', linestyle=':', linewidth=2)\n",
        "  sns.boxplot(bike_df,x=var,ax=ax2,palette=\"viridis\")\n",
        "\n",
        "  ax1.set_xlabel(f'{var}', color='blue')\n",
        "  ax1.set_ylabel('Density', color='blue')\n",
        "\n",
        "  ax2.set_xlabel(var, color='green')\n",
        "\n",
        "  plt.show()\n",
        "  print('\\n\\n')\n"
      ],
      "metadata": {
        "id": "phUDCUf23yW3"
      },
      "execution_count": null,
      "outputs": []
    },
    {
      "cell_type": "markdown",
      "source": [
        "#####  What is/are the insight(s) found from the chart?"
      ],
      "metadata": {
        "id": "ijmpgYnKYklI"
      }
    },
    {
      "cell_type": "markdown",
      "source": [
        "**Our numerical features exhibit skewness and some of them contains outliers.**"
      ],
      "metadata": {
        "id": "PSx9atu2YklI"
      }
    },
    {
      "cell_type": "markdown",
      "source": [
        "#####  Will the gained insights help creating a positive business impact?\n",
        "Are there any insights that lead to negative growth? Justify with specific reason."
      ],
      "metadata": {
        "id": "-JiQyfWJYklI"
      }
    },
    {
      "cell_type": "markdown",
      "source": [
        "**Yes, the gained insights from careful analysis and appropriate handling of skewness and outliers can help create a positive business impact. By accurately understanding and addressing these data characteristics, businesses can make informed decisions, develop effective strategies, and optimize their operations. This can lead to improved resource allocation, targeted marketing, enhanced customer satisfaction, and overall positive growth and performance in the business.**"
      ],
      "metadata": {
        "id": "BcBbebzrYklV"
      }
    },
    {
      "cell_type": "markdown",
      "source": [
        "#### Chart - 3"
      ],
      "metadata": {
        "id": "EM7whBJCYoAo"
      }
    },
    {
      "cell_type": "code",
      "source": [
        "# Chart - 3 : Plotting graph for categorical features\n",
        "\n",
        "fig,(ax1,ax2,ax3)=plt.subplots(1,3,figsize=(18,5))\n",
        "sns.countplot(bike_df,x='Seasons',ax=ax1,palette='pastel')\n",
        "sns.countplot(bike_df,x='Holiday',ax=ax2,palette='pastel')\n",
        "sns.countplot(bike_df,x='Functioning_Day',ax=ax3,palette='flare')\n",
        "\n",
        "ax1.set_xlabel('Seasons', color='blue')\n",
        "ax1.set_ylabel('Count', color='blue')\n",
        "\n",
        "ax2.set_xlabel('Holiday', color='blue')\n",
        "ax2.set_ylabel('Count', color='blue')\n",
        "\n",
        "ax3.set_xlabel('Functioning_Day', color='blue')\n",
        "ax3.set_ylabel('Count', color='blue')\n",
        "\n",
        "plt.show()\n"
      ],
      "metadata": {
        "id": "t6GMdE67YoAp"
      },
      "execution_count": null,
      "outputs": []
    },
    {
      "cell_type": "markdown",
      "source": [
        "##### 1. Why did you pick the specific chart?"
      ],
      "metadata": {
        "id": "7pYScMqmqZa7"
      }
    },
    {
      "cell_type": "markdown",
      "source": [
        "**Show Categorical Features**"
      ],
      "metadata": {
        "id": "aJ0ZFJgYqbAF"
      }
    },
    {
      "cell_type": "markdown",
      "source": [
        "##### 2. What is/are the insight(s) found from the chart?"
      ],
      "metadata": {
        "id": "85gYPyotYoAp"
      }
    },
    {
      "cell_type": "markdown",
      "source": [
        "**There is not much difference across seasons but the count of Rental bikes significantly imbalance across 'Holiday' and 'Functioning Day' columns.**"
      ],
      "metadata": {
        "id": "4jstXR6OYoAp"
      }
    },
    {
      "cell_type": "markdown",
      "source": [
        "##### 3. Will the gained insights help creating a positive business impact?\n",
        "Are there any insights that lead to negative growth? Justify with specific reason."
      ],
      "metadata": {
        "id": "RoGjAbkUYoAp"
      }
    },
    {
      "cell_type": "markdown",
      "source": [
        "**Analyzing the rental bike patterns across seasons, holidays, and functional days provides valuable insights for understanding the fluctuation in demand and optimizing resource allocation accordingly.**"
      ],
      "metadata": {
        "id": "zfJ8IqMcYoAp"
      }
    },
    {
      "cell_type": "markdown",
      "source": [
        "## ***BIVARIATE ANALYSIS***"
      ],
      "metadata": {
        "id": "qXLcr36O9kF2"
      }
    },
    {
      "cell_type": "markdown",
      "source": [
        "#### Chart - 4"
      ],
      "metadata": {
        "id": "4Of9eVA-YrdM"
      }
    },
    {
      "cell_type": "code",
      "source": [
        "# Chart - 4 visualization code\n",
        "num_features"
      ],
      "metadata": {
        "id": "irlUoxc8YrdO"
      },
      "execution_count": null,
      "outputs": []
    },
    {
      "cell_type": "code",
      "source": [
        "for var in num_features:\n",
        "  plt.figure(figsize=(12,6))\n",
        "  sns.scatterplot(bike_df,x=var,y='Rented_Bike_Count',color='salmon')\n",
        "  correlation=bike_df[var].corr(bike_df['Rented_Bike_Count'])\n",
        "  plt.title('Rented_Bike_Count vs ' + var + ': Correlation = '+str(correlation),bbox={'facecolor':'salmon', 'alpha':0.3} )\n",
        "  z = np.polyfit(bike_df[var], bike_df['Rented_Bike_Count'], 1)\n",
        "  y_hat = np.poly1d(z)(bike_df[var])\n",
        "  plt.plot(bike_df[var], y_hat,'r--', lw=1)\n",
        "\n",
        "  plt.xlabel(var , color='salmon')\n",
        "  plt.ylabel('Rented_Bike_Count Label', color='salmon')\n",
        "\n",
        "  plt.show()\n",
        "  print('\\n\\n\\n')"
      ],
      "metadata": {
        "id": "W_mMqqpKdBHW"
      },
      "execution_count": null,
      "outputs": []
    },
    {
      "cell_type": "markdown",
      "source": [
        "##### 1. Why did you pick the specific chart?"
      ],
      "metadata": {
        "id": "iky9q4vBYrdO"
      }
    },
    {
      "cell_type": "markdown",
      "source": [
        "**Show The Relation between  Numerical Features and dependent variable**"
      ],
      "metadata": {
        "id": "aJRCwT6DYrdO"
      }
    },
    {
      "cell_type": "markdown",
      "source": [
        "##### 2. What is/are the insight(s) found from the chart?"
      ],
      "metadata": {
        "id": "F6T5p64dYrdO"
      }
    },
    {
      "cell_type": "markdown",
      "source": [
        "**Hour, Temperature, wind speed, visibility, dew point temperature,solar radiation & month are positively correlated with our dependent variable (Rented Bike Count) while other numerical features are negatively correlated with Rented bike count.**"
      ],
      "metadata": {
        "id": "Xx8WAJvtYrdO"
      }
    },
    {
      "cell_type": "markdown",
      "source": [
        "##### 3. Will the gained insights help creating a positive business impact?\n",
        "Are there any insights that lead to negative growth? Justify with specific reason."
      ],
      "metadata": {
        "id": "y-Ehk30pYrdP"
      }
    },
    {
      "cell_type": "markdown",
      "source": [
        "**Yes, the gained insights indicating positive correlations between Hour, Temperature, wind speed, visibility, dew point temperature, solar radiation, and month with the Rented Bike Count can inform business decisions such as optimizing operational hours, adjusting pricing, and targeting marketing efforts to maximize bike rentals and drive positive business impact. Additionally, understanding the negative correlations with other numerical features can help identify areas for improvement and implement strategies to mitigate potential negative impacts on bike rentals.**"
      ],
      "metadata": {
        "id": "jLNxxz7MYrdP"
      }
    },
    {
      "cell_type": "markdown",
      "source": [
        "#### Chart - 5"
      ],
      "metadata": {
        "id": "bamQiAODYuh1"
      }
    },
    {
      "cell_type": "code",
      "source": [
        "# Chart - 5 visualization code\n",
        "fig,(ax1,ax2,ax3)=plt.subplots(1,3,figsize=(18,5))\n",
        "sns.barplot(bike_df,x='Seasons',y='Rented_Bike_Count',ax=ax1,palette='viridis',capsize=0.1)\n",
        "sns.barplot(bike_df,x='Holiday',y='Rented_Bike_Count',ax=ax2,palette='pastel',capsize=0.1)\n",
        "sns.barplot(bike_df,x='Functioning_Day',y='Rented_Bike_Count',ax=ax3,palette='inferno',capsize=0.1)\n",
        "plt.show()"
      ],
      "metadata": {
        "id": "TIJwrbroYuh3"
      },
      "execution_count": null,
      "outputs": []
    },
    {
      "cell_type": "markdown",
      "source": [
        "##### 1. Why did you pick the specific chart?"
      ],
      "metadata": {
        "id": "QHF8YVU7Yuh3"
      }
    },
    {
      "cell_type": "markdown",
      "source": [
        "**To plot the variation in Rented Bike count due to Seasons,Holiday and Functioning day**"
      ],
      "metadata": {
        "id": "dcxuIMRPYuh3"
      }
    },
    {
      "cell_type": "markdown",
      "source": [
        "##### 2. What is/are the insight(s) found from the chart?"
      ],
      "metadata": {
        "id": "GwzvFGzlYuh3"
      }
    },
    {
      "cell_type": "markdown",
      "source": [
        "* **Count is maximum during summer but minimum during winter.**\n",
        "* **During holidays counts drop down**.\n",
        "* **Contribution of non-funtioning day to count is insignificant**."
      ],
      "metadata": {
        "id": "uyqkiB8YYuh3"
      }
    },
    {
      "cell_type": "markdown",
      "source": [
        "##### 3. Will the gained insights help creating a positive business impact?\n",
        "Are there any insights that lead to negative growth? Justify with specific reason."
      ],
      "metadata": {
        "id": "qYpmQ266Yuh3"
      }
    },
    {
      "cell_type": "markdown",
      "source": [
        "**Yes, the gained insights about the count being maximum during summer, dropping during winter, and decreasing during holidays can help businesses plan their resources, adjust marketing strategies, and optimize operations to meet customer demand, resulting in a positive business impact. Additionally, the understanding that non-functioning days have an insignificant contribution can guide businesses in allocating resources more efficiently.**"
      ],
      "metadata": {
        "id": "_WtzZ_hCYuh4"
      }
    },
    {
      "cell_type": "markdown",
      "source": [
        "#### Chart - 6"
      ],
      "metadata": {
        "id": "OH-pJp9IphqM"
      }
    },
    {
      "cell_type": "code",
      "source": [
        "# Chart - 6 visualization code\n",
        "plt.figure(figsize=(12,6))\n",
        "bike_df.groupby('Rainfall')['Rented_Bike_Count'].mean().plot(c='royalblue')\n",
        "plt.xlabel('Rainfall in mm',color='blue')\n",
        "plt.ylabel('Average rented bike count',color='blue')\n",
        "plt.xticks(range(0,37,2))\n",
        "plt.show()"
      ],
      "metadata": {
        "id": "kuRf4wtuphqN"
      },
      "execution_count": null,
      "outputs": []
    },
    {
      "cell_type": "markdown",
      "source": [
        "##### 1. Why did you pick the specific chart?"
      ],
      "metadata": {
        "id": "bbFf2-_FphqN"
      }
    },
    {
      "cell_type": "markdown",
      "source": [
        "**to analyze the relationship between \"Rented_Bike_Count\" and \"Rainfall\"**"
      ],
      "metadata": {
        "id": "loh7H2nzphqN"
      }
    },
    {
      "cell_type": "markdown",
      "source": [
        "##### 2. What is/are the insight(s) found from the chart?"
      ],
      "metadata": {
        "id": "_ouA3fa0phqN"
      }
    },
    {
      "cell_type": "markdown",
      "source": [
        "**The above plot indicates that despite heavy rainfall, the demand for rented bikes does not decrease. For instance, even with a rainfall of 22-24 mm, there is a significant peak in the number of rented bikes.**"
      ],
      "metadata": {
        "id": "VECbqPI7phqN"
      }
    },
    {
      "cell_type": "markdown",
      "source": [
        "##### 3. Will the gained insights help creating a positive business impact?\n",
        "Are there any insights that lead to negative growth? Justify with specific reason."
      ],
      "metadata": {
        "id": "Seke61FWphqN"
      }
    },
    {
      "cell_type": "markdown",
      "source": [
        "**Yes, the gained insight that heavy rainfall does not decrease the demand for rented bikes can have a positive business impact. Businesses can leverage this information to optimize their operations during rainy periods and ensure a continuous supply of bikes, meeting customer demand and potentially increasing revenue.**"
      ],
      "metadata": {
        "id": "DW4_bGpfphqN"
      }
    },
    {
      "cell_type": "markdown",
      "source": [
        "#### Chart - 7"
      ],
      "metadata": {
        "id": "PIIx-8_IphqN"
      }
    },
    {
      "cell_type": "code",
      "source": [
        "# Chart - 7 visualization code\n",
        "# Chart - 7 : plot to analyze the relationship between \"Rented_Bike_Count\" and \"Wind_speed\"\n",
        "plt.figure(figsize=(12,6))\n",
        "bike_df.groupby('Wind_speed').mean()['Rented_Bike_Count'].plot(c='royalblue')\n",
        "plt.xlabel('Wind_Speed in m/s',color='blue')\n",
        "plt.ylabel('Average rented bike count',color='blue')\n",
        "plt.show()"
      ],
      "metadata": {
        "id": "lqAIGUfyphqO"
      },
      "execution_count": null,
      "outputs": []
    },
    {
      "cell_type": "markdown",
      "source": [
        "##### 1. Why did you pick the specific chart?"
      ],
      "metadata": {
        "id": "t27r6nlMphqO"
      }
    },
    {
      "cell_type": "markdown",
      "source": [
        "**To analyze the relationship between \"Rented_Bike_Count\" and \"Wind_speed\"**"
      ],
      "metadata": {
        "id": "iv6ro40sphqO"
      }
    },
    {
      "cell_type": "markdown",
      "source": [
        "##### 2. What is/are the insight(s) found from the chart?"
      ],
      "metadata": {
        "id": "r2jJGEOYphqO"
      }
    },
    {
      "cell_type": "markdown",
      "source": [
        "**From the plot above, we can observe that the demand for rented bikes is evenly distributed regardless of the wind speed. However, there is a spike in bike rentals when the wind speed is at 7 m/s, indicating that people enjoy riding bikes when there is a slight breeze.**"
      ],
      "metadata": {
        "id": "Po6ZPi4hphqO"
      }
    },
    {
      "cell_type": "markdown",
      "source": [
        "##### 3. Will the gained insights help creating a positive business impact?\n",
        "Are there any insights that lead to negative growth? Justify with specific reason."
      ],
      "metadata": {
        "id": "b0JNsNcRphqO"
      }
    },
    {
      "cell_type": "markdown",
      "source": [
        "**Yes, the gained insight about the even distribution of bike rentals regardless of wind speed, with a spike at 7 m/s, can have a positive business impact. Businesses can promote biking as an enjoyable activity during breezy conditions, potentially increasing bike rentals and attracting more customers.**"
      ],
      "metadata": {
        "id": "xvSq8iUTphqO"
      }
    },
    {
      "cell_type": "markdown",
      "source": [
        "#### Chart - 8"
      ],
      "metadata": {
        "id": "BZR9WyysphqO"
      }
    },
    {
      "cell_type": "code",
      "source": [
        "# Chart - 8 visualization code\n",
        "fig, ax = plt.subplots(figsize=(15, 8))\n",
        "sns.boxplot(data=bike_df, x='Hour', y='Rented_Bike_Count', ax=ax,palette='viridis')\n",
        "plt.title('Count of Rented bikes according to Hour',bbox={'facecolor':'blue', 'alpha':0.5})\n",
        "plt.show()"
      ],
      "metadata": {
        "id": "TdPTWpAVphqO"
      },
      "execution_count": null,
      "outputs": []
    },
    {
      "cell_type": "markdown",
      "source": [
        "##### 1. Why did you pick the specific chart?"
      ],
      "metadata": {
        "id": "jj7wYXLtphqO"
      }
    },
    {
      "cell_type": "markdown",
      "source": [
        "**To see the count of rented bike hourly**"
      ],
      "metadata": {
        "id": "Ob8u6rCTphqO"
      }
    },
    {
      "cell_type": "markdown",
      "source": [
        "##### 2. What is/are the insight(s) found from the chart?"
      ],
      "metadata": {
        "id": "eZrbJ2SmphqO"
      }
    },
    {
      "cell_type": "markdown",
      "source": [
        "**The plot above showcases the usage of rented bikes across different hours throughout the year. It is notable that people tend to use rented bikes during their working hours, specifically from 7 AM to 9 AM and 5 PM to 7 PM.**"
      ],
      "metadata": {
        "id": "mZtgC_hjphqO"
      }
    },
    {
      "cell_type": "markdown",
      "source": [
        "##### 3. Will the gained insights help creating a positive business impact?\n",
        "Are there any insights that lead to negative growth? Justify with specific reason."
      ],
      "metadata": {
        "id": "rFu4xreNphqO"
      }
    },
    {
      "cell_type": "markdown",
      "source": [
        "**Yes, the gained insight that people tend to use rented bikes during their working hours can have a positive business impact. Businesses can optimize their operations and marketing efforts during these peak hours to meet customer demand, attract more riders, and potentially increase revenue.**"
      ],
      "metadata": {
        "id": "ey_0qi68phqO"
      }
    },
    {
      "cell_type": "markdown",
      "source": [
        "#### Chart - 9"
      ],
      "metadata": {
        "id": "YJ55k-q6phqO"
      }
    },
    {
      "cell_type": "code",
      "source": [
        "# Chart - 9 visualization code\n",
        "plt.figure(figsize=(14,6))\n",
        "sns.barplot(x='month',y='Rented_Bike_Count',data=bike_df,palette='pastel')\n",
        "plt.title('Average count of Bikes Rented per Month',bbox={'facecolor':'blue','alpha':0.5})\n",
        "plt.show()\n",
        "# bbox={'facecolor':'blue', 'alpha':0.5}\n"
      ],
      "metadata": {
        "id": "B2aS4O1ophqO"
      },
      "execution_count": null,
      "outputs": []
    },
    {
      "cell_type": "markdown",
      "source": [
        "##### 1. Why did you pick the specific chart?"
      ],
      "metadata": {
        "id": "gCFgpxoyphqP"
      }
    },
    {
      "cell_type": "markdown",
      "source": [
        "**To Check Average count of Bikes Rented per Month**"
      ],
      "metadata": {
        "id": "TVxDimi2phqP"
      }
    },
    {
      "cell_type": "markdown",
      "source": [
        "##### 2. What is/are the insight(s) found from the chart?"
      ],
      "metadata": {
        "id": "OVtJsKN_phqQ"
      }
    },
    {
      "cell_type": "markdown",
      "source": [
        "**During Summer season the demand for rented bikes are on hike while during winter demand is low.**"
      ],
      "metadata": {
        "id": "ngGi97qjphqQ"
      }
    },
    {
      "cell_type": "markdown",
      "source": [
        "##### 3. Will the gained insights help creating a positive business impact?\n",
        "Are there any insights that lead to negative growth? Justify with specific reason."
      ],
      "metadata": {
        "id": "lssrdh5qphqQ"
      }
    },
    {
      "cell_type": "markdown",
      "source": [
        "**Yes, the gained insight that demand for rented bikes is high during summer and low during winter can help businesses align their resources and marketing strategies accordingly, maximizing revenue and creating a positive business impact.**"
      ],
      "metadata": {
        "id": "tBpY5ekJphqQ"
      }
    },
    {
      "cell_type": "markdown",
      "source": [
        "## ***TriVariate Analysis***"
      ],
      "metadata": {
        "id": "U01cGy7-IOyZ"
      }
    },
    {
      "cell_type": "markdown",
      "source": [
        "#### Chart - 10"
      ],
      "metadata": {
        "id": "U2RJ9gkRphqQ"
      }
    },
    {
      "cell_type": "code",
      "source": [
        "# Chart - 10 visualization code\n",
        "plt.figure(figsize=(16,6))\n",
        "sns.lineplot(x='Hour',y= \"Rented_Bike_Count\",data=bike_df,hue='Seasons',palette='deep',alpha=1)\n",
        "plt.xticks(range(0,24))\n",
        "plt.title('Analysing trend line of \"Rented Bike Count\" w.r.t \"Hour\" for different Seasons',bbox={'facecolor':'blue','alpha':0.5})\n",
        "plt.show()"
      ],
      "metadata": {
        "id": "GM7a4YP4phqQ"
      },
      "execution_count": null,
      "outputs": []
    },
    {
      "cell_type": "markdown",
      "source": [
        "##### 1. Why did you pick the specific chart?"
      ],
      "metadata": {
        "id": "1M8mcRywphqQ"
      }
    },
    {
      "cell_type": "markdown",
      "source": [
        "**Analysing trend line of \"Rented Bike Count\" w.r.t \"Hour\" for different Seasons**"
      ],
      "metadata": {
        "id": "8agQvks0phqQ"
      }
    },
    {
      "cell_type": "markdown",
      "source": [
        "##### 2. What is/are the insight(s) found from the chart?"
      ],
      "metadata": {
        "id": "tgIPom80phqQ"
      }
    },
    {
      "cell_type": "markdown",
      "source": [
        " **The analysis reveals that the use of rented bikes is significantly high during the summer season with peak demand during 7am-9am and 5pm-7pm. However, during the winter season, the use of rented bikes is quite low due to snowfall.**"
      ],
      "metadata": {
        "id": "Qp13pnNzphqQ"
      }
    },
    {
      "cell_type": "markdown",
      "source": [
        "##### 3. Will the gained insights help creating a positive business impact?\n",
        "Are there any insights that lead to negative growth? Justify with specific reason."
      ],
      "metadata": {
        "id": "JMzcOPDDphqR"
      }
    },
    {
      "cell_type": "markdown",
      "source": [
        "**Yes, the gained insights that highlight high demand for rented bikes during the summer season and specific peak hours, as well as low demand during the winter season due to snowfall, can help businesses optimize operations, target marketing efforts, and adjust resources accordingly, leading to a positive business impact.**"
      ],
      "metadata": {
        "id": "R4Ka1PC2phqR"
      }
    },
    {
      "cell_type": "markdown",
      "source": [
        "#### Chart - 11"
      ],
      "metadata": {
        "id": "x-EpHcCOp1ci"
      }
    },
    {
      "cell_type": "code",
      "source": [
        "# Chart - 11 visualization code\n",
        "plt.figure(figsize=(16,6))\n",
        "sns.pointplot(x='Hour',y= \"Rented_Bike_Count\",data=bike_df,hue='Holiday',palette='rocket')\n",
        "plt.title('Analysing trend line of \"Rented Bike Count\" w.r.t \"Hour\" seperately for \"Holiday\" and \"No Holiday\" ',\n",
        "                                      bbox={'facecolor':'blue', 'alpha':0.5})\n",
        "plt.show()"
      ],
      "metadata": {
        "id": "mAQTIvtqp1cj"
      },
      "execution_count": null,
      "outputs": []
    },
    {
      "cell_type": "markdown",
      "source": [
        "##### 1. Why did you pick the specific chart?"
      ],
      "metadata": {
        "id": "X_VqEhTip1ck"
      }
    },
    {
      "cell_type": "markdown",
      "source": [
        "**To Analysing trend line of \"Rented Bike Count\" w.r.t \"Hour\" seperately for \"Holiday\" and \"No Holiday\"**"
      ],
      "metadata": {
        "id": "-vsMzt_np1ck"
      }
    },
    {
      "cell_type": "markdown",
      "source": [
        "##### 2. What is/are the insight(s) found from the chart?"
      ],
      "metadata": {
        "id": "8zGJKyg5p1ck"
      }
    },
    {
      "cell_type": "markdown",
      "source": [
        "**During Holidays People prefer to use rented bikes after 12 pm.**"
      ],
      "metadata": {
        "id": "ZYdMsrqVp1ck"
      }
    },
    {
      "cell_type": "markdown",
      "source": [
        "##### 3. Will the gained insights help creating a positive business impact?\n",
        "Are there any insights that lead to negative growth? Justify with specific reason."
      ],
      "metadata": {
        "id": "PVzmfK_Ep1ck"
      }
    },
    {
      "cell_type": "markdown",
      "source": [
        "**Yes, the gained insight that people prefer to use rented bikes after 12 pm during holidays can help businesses adjust their operational hours and allocate resources effectively, catering to the increased demand and potentially creating a positive business impact.**"
      ],
      "metadata": {
        "id": "druuKYZpp1ck"
      }
    },
    {
      "cell_type": "markdown",
      "source": [
        "#### Chart - 12"
      ],
      "metadata": {
        "id": "n3dbpmDWp1ck"
      }
    },
    {
      "cell_type": "code",
      "source": [
        "# Chart - 12 visualization code\n",
        "plt.figure(figsize=(16,6))\n",
        "sns.pointplot(x='Hour',y= \"Rented_Bike_Count\",data=bike_df,hue='weekend',palette='rocket')\n",
        "plt.title('Analysing trend line of \"Rented Bike Count\" w.r.t \"Hour\" sperately for \"weekdays\" and \"weekend\" ',\n",
        "                        bbox={'facecolor':'blue','alpha':0.5})\n",
        "plt.show()"
      ],
      "metadata": {
        "id": "bwevp1tKp1ck"
      },
      "execution_count": null,
      "outputs": []
    },
    {
      "cell_type": "markdown",
      "source": [
        "##### 1. Why did you pick the specific chart?"
      ],
      "metadata": {
        "id": "ylSl6qgtp1ck"
      }
    },
    {
      "cell_type": "markdown",
      "source": [
        "**To Analysing trend line of \"Rented Bike Count\" w.r.t \"Hour\" sperately for \"weekdays\" and \"weekend\"**"
      ],
      "metadata": {
        "id": "m2xqNkiQp1ck"
      }
    },
    {
      "cell_type": "markdown",
      "source": [
        "##### 2. What is/are the insight(s) found from the chart?"
      ],
      "metadata": {
        "id": "ZWILFDl5p1ck"
      }
    },
    {
      "cell_type": "markdown",
      "source": [
        "* **we can observe that the demand for rented bikes is higher on weekdays and more specifically between 7am-9am and 5pm-7pm**.\n",
        "* **On weekends,the demand for rented bikes is generally lower, especially during the morning hours but rise thereafter.**"
      ],
      "metadata": {
        "id": "x-lUsV2mp1ck"
      }
    },
    {
      "cell_type": "markdown",
      "source": [
        "##### 3. Will the gained insights help creating a positive business impact?\n",
        "Are there any insights that lead to negative growth? Justify with specific reason."
      ],
      "metadata": {
        "id": "M7G43BXep1ck"
      }
    },
    {
      "cell_type": "markdown",
      "source": [
        "**Yes, the gained insights about higher demand for rented bikes on weekdays, specifically during peak commuting hours, and lower demand on weekends, especially in the morning, can help businesses optimize their operations, staffing, and marketing strategies to cater to these patterns, potentially leading to a positive business impact**"
      ],
      "metadata": {
        "id": "5wwDJXsLp1cl"
      }
    },
    {
      "cell_type": "markdown",
      "source": [
        "### **Multivariate Analysis**"
      ],
      "metadata": {
        "id": "NDeBdvp0mN5V"
      }
    },
    {
      "cell_type": "markdown",
      "source": [
        "#### Chart - 14 - Correlation Heatmap"
      ],
      "metadata": {
        "id": "NC_X3p0fY2L0"
      }
    },
    {
      "cell_type": "code",
      "source": [
        "# Correlation Heatmap visualization code\n",
        "plt.figure(figsize=(16,8))\n",
        "plt.title('Correlation Chart')\n",
        "sns.heatmap(bike_df[bike_df.describe().columns].corr(),annot=True,annot_kws={'size': 10},linewidths=2,square=True,fmt='.2f',cmap='YlOrBr')\n",
        "plt.show()"
      ],
      "metadata": {
        "id": "xyC9zolEZNRQ"
      },
      "execution_count": null,
      "outputs": []
    },
    {
      "cell_type": "markdown",
      "source": [
        "### **Presence of Multicollinearity**\n",
        "* **We observe that columns 'Temperature' and 'Dew point temperature' are highly positively correlated, with a correlation coefficient of 0.91.**\n",
        "* **'Visibility' and 'Humidity' have high negative correlation as compared to others, with a correlation coefficient of -0.54.**"
      ],
      "metadata": {
        "id": "bfSqtnDqZNRR"
      }
    },
    {
      "cell_type": "markdown",
      "source": [
        "### **Using VIF to remove Multicollinearity**\n",
        "*  <I>VIF score should be less than 5 for no multicollinearity.<I>"
      ],
      "metadata": {
        "id": "xDvpYFbfoVcI"
      }
    },
    {
      "cell_type": "code",
      "source": [
        "from statsmodels.stats.outliers_influence import variance_inflation_factor\n",
        "def calc_vif(X):\n",
        "\n",
        "# Calculating VIF\n",
        "  vif =pd.DataFrame()\n",
        "  vif['Features']= X.columns\n",
        "  vif['VIF']=[variance_inflation_factor(X.values,i) for i in range(X.shape[1])]\n",
        "  return vif"
      ],
      "metadata": {
        "id": "DQjS8qA1WyiX"
      },
      "execution_count": null,
      "outputs": []
    },
    {
      "cell_type": "code",
      "source": [
        "bike_df_copy=bike_df.copy()"
      ],
      "metadata": {
        "id": "9K298BHudpQQ"
      },
      "execution_count": null,
      "outputs": []
    },
    {
      "cell_type": "code",
      "source": [
        "calc_vif(bike_df_copy[[i for i in bike_df_copy.describe().columns if i not in [\"Rented_Bike_Count\"]]])"
      ],
      "metadata": {
        "id": "a1DgquyhdpIU"
      },
      "execution_count": null,
      "outputs": []
    },
    {
      "cell_type": "code",
      "source": [
        "bike_df_copy.drop(columns = ['Dew_point_temperature'],axis = 1, inplace = True)"
      ],
      "metadata": {
        "id": "sMe8AnMqdo4F"
      },
      "execution_count": null,
      "outputs": []
    },
    {
      "cell_type": "code",
      "source": [
        "calc_vif(bike_df_copy[[i for i in bike_df_copy.describe().columns if i not in [\"Rented Bike Count\"]]])"
      ],
      "metadata": {
        "id": "js0HsBxgdox5"
      },
      "execution_count": null,
      "outputs": []
    },
    {
      "cell_type": "code",
      "source": [
        "bike_df_copy.drop(columns = ['Humidity'],axis = 1, inplace = True)"
      ],
      "metadata": {
        "id": "iT-k0ZD2dop3"
      },
      "execution_count": null,
      "outputs": []
    },
    {
      "cell_type": "code",
      "source": [
        "calc_vif(bike_df_copy[[i for i in bike_df_copy.describe().columns if i not in [\"Rented Bike Count\"]]])"
      ],
      "metadata": {
        "id": "NfK6PNSQiCXf"
      },
      "execution_count": null,
      "outputs": []
    },
    {
      "cell_type": "markdown",
      "source": [
        "## ***5. Hypothesis Testing***"
      ],
      "metadata": {
        "id": "g-ATYxFrGrvw"
      }
    },
    {
      "cell_type": "markdown",
      "source": [
        "### Hypothetical Statement - 1"
      ],
      "metadata": {
        "id": "8yEUt7NnHlrM"
      }
    },
    {
      "cell_type": "markdown",
      "source": [
        "#### 1. State Your research hypothesis as a null hypothesis and alternate hypothesis."
      ],
      "metadata": {
        "id": "tEA2Xm5dHt1r"
      }
    },
    {
      "cell_type": "markdown",
      "source": [
        "**Null Hypothesis (H0)**: <i>There is no significant relationship between the independent variables and the 'Rented Bike Count' (dependent variable).<i>\n",
        "\n",
        "**Alternate Hypothesis (Ha)**: <i>There is a significant relationship between the independent variables and the 'Rented Bike Count' (dependent variable).<i>"
      ],
      "metadata": {
        "id": "HI9ZP0laH0D-"
      }
    },
    {
      "cell_type": "markdown",
      "source": [
        "#### 2. Perform an appropriate statistical test."
      ],
      "metadata": {
        "id": "IReYHoIzrd1b"
      }
    },
    {
      "cell_type": "markdown",
      "source": [
        "**To test this hypothesis, we can perform statistical tests such as:**\n",
        "\n",
        "* *Feature Significance Test: Evaluate the p-values of the coefficients of the independent variables in the regression model. If the p-values are below a predetermined significance level (e.g., 0.05), reject the null hypothesis and conclude that there is a significant relationship between the independent variables and the 'Rented Bike Count.'*\n",
        "\n",
        "* *Overall Model Significance Test: Assess the overall significance of the regression model by conducting an F-test or chi-square test. If the p-value is below the chosen significance level, reject the null hypothesis and conclude that the model as a whole is significant in predicting the 'Rented Bike Count.'*"
      ],
      "metadata": {
        "id": "v-_PkMhmsKbl"
      }
    },
    {
      "cell_type": "markdown",
      "source": [
        "####**Ordinary Least Square Model**"
      ],
      "metadata": {
        "id": "s2U0kk00ygSB"
      }
    },
    {
      "cell_type": "code",
      "source": [
        "# Perform Statistical Test to obtain P-Value\n",
        "import statsmodels.api as sm\n",
        "\n",
        "\n",
        "# Add a constant column to the DataFrame for the intercept term\n",
        "bike_df_copy = sm.add_constant(bike_df_copy)\n",
        "\n",
        "independent_vars=bike_df_copy[bike_df_copy.describe().columns].drop('Rented_Bike_Count',axis=1)\n",
        "dependent_var=bike_df_copy['Rented_Bike_Count']\n",
        "\n",
        "# Perform the regression analysis\n",
        "model = sm.OLS(dependent_var,independent_vars)\n",
        "results = model.fit()\n",
        "\n",
        "# Obtain the p-values\n",
        "p_values = results.pvalues\n",
        "\n",
        "print(round(p_values,5))"
      ],
      "metadata": {
        "id": "iqo4Ih3RtNfp"
      },
      "execution_count": null,
      "outputs": []
    },
    {
      "cell_type": "code",
      "source": [
        "results.summary()"
      ],
      "metadata": {
        "id": "UYmfw-VbtZHM"
      },
      "execution_count": null,
      "outputs": []
    },
    {
      "cell_type": "markdown",
      "source": [
        "**Conclusion**\n",
        "* For the 'Solar_Radiation' variable, the p-value is 0.53238, which is greater than 0.05. Therefore, there is not enough evidence to conclude a significant relationship between 'Solar_Radiation' and the 'Rented Bike Count'.\n",
        "*Similarly, for the 'Snowfall' variable, the p-value is 0.10884, which is also greater than 0.05. Hence, there is not enough evidence to establish a significant relationship between 'Snowfall' and the 'Rented Bike Count'.\n",
        "\n",
        "\n",
        "\n",
        "In summary, based on the given p-values, we can reject the null hypothesis for the independent variables 'Hour', 'Temperature', 'Wind_speed', 'Visibility', 'Rainfall', 'Month', and 'Weekend'. This implies that there is a significant relationship between these independent variables and the 'Rented Bike Count'. However, there is insufficient evidence to reject the null hypothesis for the 'Solar_Radiation' and 'Snowfall' variables, indicating that these variables may not have a significant relationship with the 'Rented Bike Count'."
      ],
      "metadata": {
        "id": "_WyRvUGnth0v"
      }
    },
    {
      "cell_type": "markdown",
      "source": [
        "### Hypothetical Statement - 2"
      ],
      "metadata": {
        "id": "4_0_7-oCpUZd"
      }
    },
    {
      "cell_type": "markdown",
      "source": [
        "#### 1. State Your research hypothesis as a null hypothesis and alternate hypothesis."
      ],
      "metadata": {
        "id": "hwyV_J3ipUZe"
      }
    },
    {
      "cell_type": "markdown",
      "source": [
        "**Null hypothesis (H0)**: The dependent variable is normally distributed in the population.\n",
        "\n",
        "**Alternative hypothesis (Ha)**: The dependent variable is not normally distributed in the population."
      ],
      "metadata": {
        "id": "FnpLGJ-4pUZe"
      }
    },
    {
      "cell_type": "markdown",
      "source": [
        "#### 2. Perform an appropriate statistical test."
      ],
      "metadata": {
        "id": "3yB-zSqbpUZe"
      }
    },
    {
      "cell_type": "markdown",
      "source": [
        "####**Shapiro-Wilk test**"
      ],
      "metadata": {
        "id": "qvFOs2iCxQgZ"
      }
    },
    {
      "cell_type": "code",
      "source": [
        "# Perform Statistical Test to obtain P-Value\n",
        "\n",
        "from scipy import stats\n",
        "\n",
        "# Perform the Shapiro-Wilk test\n",
        "statistic, p_value = stats.shapiro(bike_df_copy['Rented_Bike_Count'])\n",
        "\n",
        "print(\"Shapiro-Wilk Test\")\n",
        "print(\"Test statistic:\", statistic)\n",
        "print(\"p-value:\", p_value)"
      ],
      "metadata": {
        "id": "_qFEwakfxXXa"
      },
      "execution_count": null,
      "outputs": []
    },
    {
      "cell_type": "markdown",
      "source": [
        "**Conclusion**\n",
        "Based on the Shapiro-Wilk test results, with a test statistic of 0.8822 and a p-value of 0.0, the p-value is less than the chosen significance level (e.g., 0.05). Therefore, we would reject the null hypothesis (H0) that the dependent variable is normally distributed."
      ],
      "metadata": {
        "id": "e7yzdv44xpH2"
      }
    },
    {
      "cell_type": "code",
      "source": [
        "bike_df_copy.drop('const',axis=1,inplace=True)"
      ],
      "metadata": {
        "id": "HixLotfozLwR"
      },
      "execution_count": null,
      "outputs": []
    },
    {
      "cell_type": "markdown",
      "source": [
        "## ***6. Feature Engineering & Data Pre-processing***"
      ],
      "metadata": {
        "id": "yLjJCtPM0KBk"
      }
    },
    {
      "cell_type": "markdown",
      "source": [
        "### 2. Handling Outliers"
      ],
      "metadata": {
        "id": "id1riN9m0vUs"
      }
    },
    {
      "cell_type": "code",
      "source": [
        "# Handling Outliers & Outlier treatments\n",
        "# Treatment of Outliers in our dependent Variable(applying square root transformation)\n",
        "fig,(ax1,ax2)=plt.subplots(1,2,figsize=(16,6))\n",
        "sns.kdeplot(np.sqrt(bike_df_copy['Rented_Bike_Count']),color='y',fill=True,ax=ax1)\n",
        "ax1.axvline(np.sqrt(bike_df_copy['Rented_Bike_Count']).mean(), color='green', linestyle='dashed', linewidth=2)\n",
        "ax1.axvline(np.sqrt(bike_df_copy['Rented_Bike_Count']).median(), color='blue', linestyle='dashed', linewidth=2)\n",
        "sns.boxplot(x= np.sqrt(bike_df_copy['Rented_Bike_Count']),color='y')\n",
        "plt.show()"
      ],
      "metadata": {
        "id": "M6w2CzZf04JK"
      },
      "execution_count": null,
      "outputs": []
    },
    {
      "cell_type": "markdown",
      "source": [
        "### 3. Categorical Encoding"
      ],
      "metadata": {
        "id": "89xtkJwZ18nB"
      }
    },
    {
      "cell_type": "code",
      "source": [
        "# Encode your categorical columns\n",
        "#ONE HOT ENCODING\n",
        "cat_features=['Hour', 'Seasons', 'Holiday', 'Functioning_Day', 'month',\n",
        "       'weekend']\n",
        "def one_hot_encoding(data, column):\n",
        "    data = pd.concat([data, pd.get_dummies(data[column], prefix=column, drop_first=True)], axis=1)\n",
        "    data = data.drop([column], axis=1)\n",
        "    return data"
      ],
      "metadata": {
        "id": "21JmIYMG2hEo"
      },
      "execution_count": null,
      "outputs": []
    },
    {
      "cell_type": "markdown",
      "source": [
        "#### What all categorical encoding techniques have you used & why did you use those techniques?"
      ],
      "metadata": {
        "id": "67NQN5KX2AMe"
      }
    },
    {
      "cell_type": "markdown",
      "source": [
        "**One-hot encoding enables a more descriptive representation of categorical data.Since many machine learning algorithms do not accept categorical data as input, the categories need to be converted into numerical values.**"
      ],
      "metadata": {
        "id": "UDaue5h32n_G"
      }
    },
    {
      "cell_type": "code",
      "source": [
        "for col in cat_features:\n",
        "    bike_df_copy = one_hot_encoding(bike_df_copy, col)\n",
        "bike_df_copy.head()"
      ],
      "metadata": {
        "id": "Fk82ZG9rGNXG"
      },
      "execution_count": null,
      "outputs": []
    },
    {
      "cell_type": "code",
      "source": [
        "bike_df_copy.columns"
      ],
      "metadata": {
        "id": "DxptemsZGX-v"
      },
      "execution_count": null,
      "outputs": []
    },
    {
      "cell_type": "markdown",
      "source": [
        "### 6. Data Scaling"
      ],
      "metadata": {
        "id": "rMDnDkt2B6du"
      }
    },
    {
      "cell_type": "code",
      "source": [
        "# Scaling your data\n",
        "features = list(set(bike_df_copy.columns) - {'Rented_Bike_Count'})\n",
        "from scipy.stats import zscore\n",
        "bike_df_copy[features]=bike_df_copy[features].apply(zscore)"
      ],
      "metadata": {
        "id": "dL9LWpySC6x_"
      },
      "execution_count": null,
      "outputs": []
    },
    {
      "cell_type": "markdown",
      "source": [
        "##### Which method have you used to scale you data and why?"
      ],
      "metadata": {
        "id": "yiiVWRdJDDil"
      }
    },
    {
      "cell_type": "markdown",
      "source": [
        "## ***7. ML Model Implementation***"
      ],
      "metadata": {
        "id": "VfCC591jGiD4"
      }
    },
    {
      "cell_type": "code",
      "source": [
        "X=bike_df_copy.drop('Rented_Bike_Count',axis=1)\n",
        "y=np.sqrt(bike_df_copy['Rented_Bike_Count'])"
      ],
      "metadata": {
        "id": "7ebyywQieS1U"
      },
      "execution_count": null,
      "outputs": []
    },
    {
      "cell_type": "code",
      "source": [
        "# TRAIN TEST SPLIT\n",
        "X_train,X_test,y_train,y_test= train_test_split(X,y,test_size=0.25,random_state=19)\n",
        "print(X_train.shape)\n",
        "print(X_test.shape)"
      ],
      "metadata": {
        "id": "7GAcbFoDMhMw"
      },
      "execution_count": null,
      "outputs": []
    },
    {
      "cell_type": "code",
      "source": [
        "bike_df_copy.info()"
      ],
      "metadata": {
        "id": "5orIL1N_P4j0"
      },
      "execution_count": null,
      "outputs": []
    },
    {
      "cell_type": "markdown",
      "source": [
        "### **Linear Regression**"
      ],
      "metadata": {
        "id": "lXCVp_AuPdTa"
      }
    },
    {
      "cell_type": "code",
      "source": [
        "lr=LinearRegression()\n",
        "lr.fit(X_train,y_train)"
      ],
      "metadata": {
        "id": "Tp33bNVIPMO4"
      },
      "execution_count": null,
      "outputs": []
    },
    {
      "cell_type": "code",
      "source": [
        "#check the score\n",
        "lr.score(X_train,y_train)"
      ],
      "metadata": {
        "id": "iIElKpoCPqqR"
      },
      "execution_count": null,
      "outputs": []
    },
    {
      "cell_type": "code",
      "source": [
        "#check the coefficient\n",
        "lr.coef_"
      ],
      "metadata": {
        "id": "jDrhFwezPveE"
      },
      "execution_count": null,
      "outputs": []
    },
    {
      "cell_type": "code",
      "source": [
        "# Prediction\n",
        "y_pred_train= lr.predict(X_train)\n",
        "y_pred_test= lr.predict(X_test)"
      ],
      "metadata": {
        "id": "3kRclc46QgvH"
      },
      "execution_count": null,
      "outputs": []
    },
    {
      "cell_type": "code",
      "source": [
        "# Calculate: Training Set\n",
        "# 1. mean_squared_error\n",
        "mse_lr= mean_squared_error(y_train,y_pred_train)\n",
        "print('MSE :' , mse_lr)\n",
        "#2. Root_mean_squared_error\n",
        "rmse_lr=np.sqrt(mse_lr)\n",
        "print('RMSE :' , rmse_lr)\n",
        "#3. mean_absolute_error\n",
        "mae_lr=mean_absolute_error(y_train,y_pred_train)\n",
        "print('MAE :' ,mae_lr)\n",
        "#4. coefficient of determination(r2_score)\n",
        "r2_lr=r2_score(y_train,y_pred_train)\n",
        "print('R2 :' ,r2_lr)\n",
        "#5. adjusted  coefficient of determination\n",
        "adjusted_r2_lr=(1-(1-r2_score(y_train,y_pred_train))*((X_train.shape[0]-1)/(X_train.shape[0]-X_train.shape[1]-1)))\n",
        "print('Adjusted R2 :' ,adjusted_r2_lr)"
      ],
      "metadata": {
        "id": "H9YMm9iZQphH"
      },
      "execution_count": null,
      "outputs": []
    },
    {
      "cell_type": "code",
      "source": [
        "#Storing\n",
        "lr_dict={'Model':'Linear Regression','MAE':round(mae_lr,2),'MSE':round(mse_lr,2),'RMSE':round(rmse_lr,2),'R2_score':round(r2_lr,2),'Adjusted R2_score':round(adjusted_r2_lr,2)}\n",
        "training_df=pd.DataFrame(lr_dict,index=[1])\n",
        "training_df"
      ],
      "metadata": {
        "id": "keU1BfN0QpZX"
      },
      "execution_count": null,
      "outputs": []
    },
    {
      "cell_type": "code",
      "source": [
        "# Calculate: Test Set\n",
        "# 1. mean_squared_error\n",
        "mse_lr= mean_squared_error(y_test,y_pred_test)\n",
        "print('MSE :' , mse_lr)\n",
        "#2. Root_mean_squared_error\n",
        "rmse_lr=np.sqrt(mse_lr)\n",
        "print('RMSE :' , rmse_lr)\n",
        "#3. mean_absolute_error\n",
        "mae_lr=mean_absolute_error(y_test,y_pred_test)\n",
        "print('MAE :' ,mae_lr)\n",
        "#4. coefficient of determination(r2_score)\n",
        "r2_lr=r2_score(y_test,y_pred_test)\n",
        "print('R2 :' ,r2_lr)\n",
        "#5. adjusted  coefficient of determination\n",
        "adjusted_r2_lr=(1-(1-r2_score(y_test,y_pred_test))*((X_train.shape[0]-1)/(X_train.shape[0]-X_train.shape[1]-1)))\n",
        "print('Adjusted R2 :' ,adjusted_r2_lr)"
      ],
      "metadata": {
        "id": "7dh2oaGxQpV7"
      },
      "execution_count": null,
      "outputs": []
    },
    {
      "cell_type": "code",
      "source": [
        "#Storing\n",
        "lr_dict2={'Model':'Linear Regression','MAE':round(mae_lr,2),'MSE':round(mse_lr,2),'RMSE':round(rmse_lr,2),'R2_score':round(r2_lr,2),'Adjusted R2_score':round(adjusted_r2_lr,2)}\n",
        "test_df=pd.DataFrame(lr_dict2,index=[1])\n",
        "test_df"
      ],
      "metadata": {
        "id": "5o4uEi-YQpRX"
      },
      "execution_count": null,
      "outputs": []
    },
    {
      "cell_type": "markdown",
      "source": [
        "### **Concluding Remark:**\n",
        "\n",
        "* The linear regression model shows moderate performance on both the training and test sets.\n",
        "* The model achieves an R-squared (R2) value of approximately 0.76, indicating that around 76% of the variance in the target variable is explained by the independent variables.\n",
        "* The mean squared error (MSE) values are 36.49 (training set) and 37.49 (test set), suggesting moderate errors in the predictions.\n",
        "* The root mean squared error (RMSE) values are around 6.04 and 6.12, indicating the average magnitude of the errors.\n",
        "* The mean absolute error (MAE) values are approximately 4.55 and 4.56, representing the average absolute deviation of the predictions.\n",
        "* The adjusted R-squared values account for the number of predictors in the model, showing a similar pattern.\n",
        "* Overall, further analysis and model refinement may be beneficial to improve the performance."
      ],
      "metadata": {
        "id": "Et_GpFUDRmxx"
      }
    },
    {
      "cell_type": "code",
      "source": [
        "# Checking Heteroscedasticity\n",
        "residuals = y_test - y_pred_test\n",
        "sns.scatterplot(x=y_pred_test, y=residuals,color='salmon')\n",
        "\n",
        "# Add a horizontal line at y=0\n",
        "plt.axhline(y=0, color='red', linestyle='--')\n",
        "\n",
        "\n",
        "plt.xlabel('Predicted Values')\n",
        "plt.ylabel('Residuals')\n",
        "plt.title('Residual Plot')\n",
        "\n",
        "plt.show()"
      ],
      "metadata": {
        "id": "7_uWHtxcR0U4"
      },
      "execution_count": null,
      "outputs": []
    },
    {
      "cell_type": "markdown",
      "source": [
        "* **Since,the  points in the scatter plot are more or less evenly distributed on both sides of the line y=0, it suggests that the residuals have relatively consistent variability across the range of predicted values. This indicates homoscedasticity rather than heteroscedasticity**."
      ],
      "metadata": {
        "id": "7CLKEj1-R6V9"
      }
    },
    {
      "cell_type": "code",
      "source": [
        "plt.figure(figsize=(16,10))\n",
        "plt.scatter(range(len(y_pred_test)),y_pred_test,s=20,c='green',label='Predicted')\n",
        "plt.scatter(range(len(y_test)), y_test, s=20, c='red', label='Actual')\n",
        "plt.legend()\n",
        "plt.xlabel('number of test data')\n",
        "plt.show()"
      ],
      "metadata": {
        "id": "fBoWnBHIi81V"
      },
      "execution_count": null,
      "outputs": []
    },
    {
      "cell_type": "markdown",
      "source": [
        "### **Lasso Regression(L1 Regularization)**"
      ],
      "metadata": {
        "id": "xo8i-IHujID6"
      }
    },
    {
      "cell_type": "code",
      "source": [
        "lasso = Lasso(alpha=0.1,max_iter=3500)\n",
        "lasso.fit(X_train,y_train)"
      ],
      "metadata": {
        "id": "n1zeI3bhjDrK"
      },
      "execution_count": null,
      "outputs": []
    },
    {
      "cell_type": "code",
      "source": [
        "#check the score\n",
        "lasso.score(X_train,y_train)"
      ],
      "metadata": {
        "id": "1p0hyfpVjDjM"
      },
      "execution_count": null,
      "outputs": []
    },
    {
      "cell_type": "code",
      "source": [
        "# Prediction\n",
        "y_pred_train_lasso= lasso.predict(X_train)\n",
        "y_pred_test_lasso= lasso.predict(X_test)"
      ],
      "metadata": {
        "id": "YF0lR6FCjDZ5"
      },
      "execution_count": null,
      "outputs": []
    },
    {
      "cell_type": "code",
      "source": [
        "# Calculate: Training Set\n",
        "# 1. mean_squared_error\n",
        "mse_lasso= mean_squared_error(y_train,y_pred_train_lasso)\n",
        "print('MSE :' , mse_lasso)\n",
        "#2. Root_mean_squared_error\n",
        "rmse_lasso=np.sqrt(mse_lasso)\n",
        "print('RMSE :' , rmse_lasso)\n",
        "#3. mean_absolute_error\n",
        "mae_lasso=mean_absolute_error(y_train,y_pred_train_lasso)\n",
        "print('MAE :' ,mae_lasso)\n",
        "#4. coefficient of determination(r2_score)\n",
        "r2_lasso=r2_score(y_train,y_pred_train_lasso)\n",
        "print('R2 :' ,r2_lasso)\n",
        "#5. adjusted  coefficient of determination\n",
        "adjusted_r2_lasso=(1-(1-r2_score(y_train,y_pred_train_lasso))*((X_train.shape[0]-1)/(X_train.shape[0]-X_train.shape[1]-1)))\n",
        "print('Adjusted R2 :' ,adjusted_r2_lasso)"
      ],
      "metadata": {
        "id": "GJTzippSjDSK"
      },
      "execution_count": null,
      "outputs": []
    },
    {
      "cell_type": "code",
      "source": [
        "#Storing\n",
        "lasso_dict={'Model':'Lasso Regression','MAE':round(mae_lasso,2),'MSE':round(mse_lasso,2),'RMSE':round(rmse_lasso,2),'R2_score':round(r2_lasso,2),'Adjusted R2_score':round(adjusted_r2_lasso,2)}\n",
        "training_df=training_df.append(lasso_dict,ignore_index=True)\n",
        "training_df"
      ],
      "metadata": {
        "id": "1B9IwNpQjDHV"
      },
      "execution_count": null,
      "outputs": []
    },
    {
      "cell_type": "code",
      "source": [
        "# Calculate: Test  Set\n",
        "# 1. mean_squared_error\n",
        "mse_lasso= mean_squared_error(y_test,y_pred_test_lasso)\n",
        "print('MSE :' , mse_lasso)\n",
        "#2. Root_mean_squared_error\n",
        "rmse_lasso=np.sqrt(mse_lasso)\n",
        "print('RMSE :' , rmse_lasso)\n",
        "#3. mean_absolute_error\n",
        "mae_lasso=mean_absolute_error(y_test,y_pred_test_lasso)\n",
        "print('MAE :' ,mae_lasso)\n",
        "#4. coefficient of determination(r2_score)\n",
        "r2_lasso=r2_score(y_test,y_pred_test_lasso)\n",
        "print('R2 :' ,r2_lasso)\n",
        "#5. adjusted  coefficient of determination\n",
        "adjusted_r2_lasso=(1-(1-r2_score(y_test,y_pred_test_lasso))*((X_test.shape[0]-1)/(X_test.shape[0]-X_test.shape[1]-1)))\n",
        "print('Adjusted R2 :' ,adjusted_r2_lasso)"
      ],
      "metadata": {
        "id": "jj1GrBKhlGU_"
      },
      "execution_count": null,
      "outputs": []
    },
    {
      "cell_type": "code",
      "source": [
        "#Storing\n",
        "lasso_dict2={'Model':'Lasso Regression','MAE':round(mae_lasso,2),'MSE':round(mse_lasso,2),'RMSE':round(rmse_lasso,2),'R2_score':round(r2_lasso,2),'Adjusted R2_score':round(adjusted_r2_lasso,2)}\n",
        "test_df=test_df.append(lasso_dict2,ignore_index=True)\n",
        "test_df"
      ],
      "metadata": {
        "id": "mwl77p8nlGOP"
      },
      "execution_count": null,
      "outputs": []
    },
    {
      "cell_type": "markdown",
      "source": [
        "###**Ridge Regression(L2 Regularization)**"
      ],
      "metadata": {
        "id": "7aSFTXFGl1TM"
      }
    },
    {
      "cell_type": "code",
      "source": [
        "ridge=Ridge(alpha=0.1)\n",
        "ridge.fit(X_train,y_train)"
      ],
      "metadata": {
        "id": "fEjQz5CAl3IJ"
      },
      "execution_count": null,
      "outputs": []
    },
    {
      "cell_type": "code",
      "source": [
        "#check the score\n",
        "ridge.score(X_train,y_train)"
      ],
      "metadata": {
        "id": "3BzxVpaFl3CU"
      },
      "execution_count": null,
      "outputs": []
    },
    {
      "cell_type": "code",
      "source": [
        "# Prediction\n",
        "y_pred_train_ridge= ridge.predict(X_train)\n",
        "y_pred_test_ridge= ridge.predict(X_test)"
      ],
      "metadata": {
        "id": "XORDMnJpl27e"
      },
      "execution_count": null,
      "outputs": []
    },
    {
      "cell_type": "code",
      "source": [
        "# Calculate: Training Set\n",
        "# 1. mean_squared_error\n",
        "mse_ridge= mean_squared_error(y_train,y_pred_train_ridge)\n",
        "print('MSE :' , mse_ridge)\n",
        "#2. Root_mean_squared_error\n",
        "rmse_ridge=np.sqrt(mse_ridge)\n",
        "print('RMSE :' , rmse_ridge)\n",
        "#3. mean_absolute_error\n",
        "mae_ridge=mean_absolute_error(y_train,y_pred_train_ridge)\n",
        "print('MAE :' ,mae_ridge)\n",
        "#4. coefficient of determination(r2_score)\n",
        "r2_ridge=r2_score(y_train,y_pred_train_ridge)\n",
        "print('R2 :' ,r2_ridge)\n",
        "#5. adjusted  coefficient of determination\n",
        "adjusted_r2_ridge=(1-(1-r2_score(y_train,y_pred_train_ridge))*((X_train.shape[0]-1)/(X_train.shape[0]-X_train.shape[1]-1)))\n",
        "print('Adjusted R2 :' ,adjusted_r2_ridge)"
      ],
      "metadata": {
        "id": "7oi16AlVl1z6"
      },
      "execution_count": null,
      "outputs": []
    },
    {
      "cell_type": "code",
      "source": [
        "#Storing\n",
        "ridge_dict={'Model':'Ridge Regression','MAE':round(mae_ridge,2),'MSE':round(mse_ridge,2),'RMSE':round(rmse_ridge,2),'R2_score':round(r2_ridge,2),'Adjusted R2_score':round(adjusted_r2_ridge,2)}\n",
        "training_df=training_df.append(ridge_dict,ignore_index=True)\n"
      ],
      "metadata": {
        "id": "Vcd-F5v5lGE9"
      },
      "execution_count": null,
      "outputs": []
    },
    {
      "cell_type": "code",
      "source": [
        "# Calculate: Test Set\n",
        "# 1. mean_squared_error\n",
        "mse_ridge= mean_squared_error(y_test,y_pred_test_ridge)\n",
        "print('MSE :' , mse_ridge)\n",
        "#2. Root_mean_squared_error\n",
        "rmse_ridge=np.sqrt(mse_ridge)\n",
        "print('RMSE :' , rmse_ridge)\n",
        "#3. mean_absolute_error\n",
        "mae_ridge=mean_absolute_error(y_test,y_pred_test_ridge)\n",
        "print('MAE :' ,mae_ridge)\n",
        "#4. coefficient of determination(r2_score)\n",
        "r2_ridge=r2_score(y_test,y_pred_test_ridge)\n",
        "print('R2 :' ,r2_ridge)\n",
        "#5. adjusted  coefficient of determination\n",
        "adjusted_r2_ridge=(1-(1-r2_score(y_test,y_pred_test_ridge))*((X_test.shape[0]-1)/(X_test.shape[0]-X_test.shape[1]-1)))\n",
        "print('Adjusted R2 :' ,adjusted_r2_ridge)"
      ],
      "metadata": {
        "id": "dczBOr6DmOms"
      },
      "execution_count": null,
      "outputs": []
    },
    {
      "cell_type": "code",
      "source": [
        "#Storing\n",
        "ridge_dict2={'Model':'Ridge Regression','MAE':round(mae_ridge,2),'MSE':round(mse_ridge,2),'RMSE':round(rmse_ridge,2),'R2_score':round(r2_ridge,2),'Adjusted R2_score':round(adjusted_r2_ridge,2)}\n",
        "test_df=test_df.append(ridge_dict2,ignore_index=True)"
      ],
      "metadata": {
        "id": "FmE3J-kvmOXY"
      },
      "execution_count": null,
      "outputs": []
    },
    {
      "cell_type": "markdown",
      "source": [
        "### **Elastic Net Regression**"
      ],
      "metadata": {
        "id": "fU8Su-ywuFQv"
      }
    },
    {
      "cell_type": "code",
      "source": [
        "#a * L1 + b * L2\n",
        "#alpha = a + b and l1_ratio = a / (a + b)\n",
        "elasticnet = ElasticNet(alpha=0.1, l1_ratio=0.5)\n",
        "elasticnet.fit(X_train,y_train)"
      ],
      "metadata": {
        "id": "Fd9qv24hmOSi"
      },
      "execution_count": null,
      "outputs": []
    },
    {
      "cell_type": "code",
      "source": [
        "#check the score\n",
        "elasticnet.score(X_train, y_train)"
      ],
      "metadata": {
        "id": "mRW5nX1AmOPC"
      },
      "execution_count": null,
      "outputs": []
    },
    {
      "cell_type": "code",
      "source": [
        "# Prediction\n",
        "y_pred_train_elasticnet= elasticnet.predict(X_train)\n",
        "y_pred_test_elasticnet= elasticnet.predict(X_test)"
      ],
      "metadata": {
        "id": "MweX8Yk1mOKe"
      },
      "execution_count": null,
      "outputs": []
    },
    {
      "cell_type": "code",
      "source": [
        "# Calculate: Training Set\n",
        "# 1. mean_squared_error\n",
        "mse_elasticnet= mean_squared_error(y_train,y_pred_train_elasticnet)\n",
        "print('MSE :' , mse_elasticnet)\n",
        "#2. Root_mean_squared_error\n",
        "rmse_elasticnet=np.sqrt(mse_elasticnet)\n",
        "print('RMSE :' , rmse_elasticnet)\n",
        "#3. mean_absolute_error\n",
        "mae_elasticnet=mean_absolute_error(y_train,y_pred_train_elasticnet)\n",
        "print('MAE :' ,mae_elasticnet)\n",
        "#4. coefficient of determination(r2_score)\n",
        "r2_elasticnet=r2_score(y_train,y_pred_train_elasticnet)\n",
        "print('R2 :' ,r2_elasticnet)\n",
        "#5. adjusted  coefficient of determination\n",
        "adjusted_r2_elasticnet=(1-(1-r2_score(y_train,y_pred_train_elasticnet))*((X_train.shape[0]-1)/(X_train.shape[0]-X_train.shape[1]-1)))\n",
        "print('Adjusted R2 :' ,adjusted_r2_elasticnet)"
      ],
      "metadata": {
        "id": "9y7KDy0JmOEp"
      },
      "execution_count": null,
      "outputs": []
    },
    {
      "cell_type": "code",
      "source": [
        "#Storing\n",
        "elasticnet_dict={'Model':'Elasticnet Regression','MAE':round(mae_elasticnet,2),'MSE':round(mse_elasticnet,2),'RMSE':round(rmse_elasticnet,2),'R2_score':round(r2_elasticnet,2),'Adjusted R2_score':round(adjusted_r2_elasticnet,2)}\n",
        "training_df=training_df.append(elasticnet_dict,ignore_index=True)\n"
      ],
      "metadata": {
        "id": "d1x4F7ucwG8i"
      },
      "execution_count": null,
      "outputs": []
    },
    {
      "cell_type": "code",
      "source": [
        "# Calculate: Test Set\n",
        "# 1. mean_squared_error\n",
        "mse_elasticnet= mean_squared_error(y_test,y_pred_test_elasticnet)\n",
        "print('MSE :' , mse_elasticnet)\n",
        "#2. Root_mean_squared_error\n",
        "rmse_elasticnet=np.sqrt(mse_elasticnet)\n",
        "print('RMSE :' , rmse_elasticnet)\n",
        "#3. mean_absolute_error\n",
        "mae_elasticnet=mean_absolute_error(y_test,y_pred_test_elasticnet)\n",
        "print('MAE :' ,mae_elasticnet)\n",
        "#4. coefficient of determination(r2_score)\n",
        "r2_elasticnet=r2_score(y_test,y_pred_test_elasticnet)\n",
        "print('R2 :' ,r2_elasticnet)\n",
        "#5. adjusted  coefficient of determination\n",
        "adjusted_r2_elasticnet=(1-(1-r2_score(y_test,y_pred_test_elasticnet))*((X_test.shape[0]-1)/(X_test.shape[0]-X_test.shape[1]-1)))\n",
        "print('Adjusted R2 :' ,adjusted_r2_elasticnet)"
      ],
      "metadata": {
        "id": "Ttk6j1FzwG5m"
      },
      "execution_count": null,
      "outputs": []
    },
    {
      "cell_type": "code",
      "source": [
        "#Storing\n",
        "elasticnet_dict2={'Model':'Elasticnet Regression','MAE':round(mae_elasticnet,2),'MSE':round(mse_elasticnet,2),'RMSE':round(rmse_elasticnet,2),'R2_score':round(r2_elasticnet,2),'Adjusted R2_score':round(adjusted_r2_elasticnet,2)}\n",
        "test_df=test_df.append(elasticnet_dict2,ignore_index=True)"
      ],
      "metadata": {
        "id": "96Y0-jpJwG0-"
      },
      "execution_count": null,
      "outputs": []
    },
    {
      "cell_type": "markdown",
      "source": [
        "### **Gradient Boosting**"
      ],
      "metadata": {
        "id": "HnqweoPnwSnq"
      }
    },
    {
      "cell_type": "code",
      "source": [
        "from sklearn.ensemble import GradientBoostingRegressor\n",
        "gbr=GradientBoostingRegressor()\n",
        "gbr.fit(X_train,y_train)"
      ],
      "metadata": {
        "id": "eOiCPR4JwGxc"
      },
      "execution_count": null,
      "outputs": []
    },
    {
      "cell_type": "code",
      "source": [
        "#check the score\n",
        "gbr.score(X_train,y_train)"
      ],
      "metadata": {
        "id": "0BA6NtCaw-eO"
      },
      "execution_count": null,
      "outputs": []
    },
    {
      "cell_type": "code",
      "source": [
        "# Prediction\n",
        "y_pred_train_gbr= gbr.predict(X_train)\n",
        "y_pred_test_gbr= gbr.predict(X_test)"
      ],
      "metadata": {
        "id": "1sF5iEC-w-ZP"
      },
      "execution_count": null,
      "outputs": []
    },
    {
      "cell_type": "code",
      "source": [
        "# Calculate: Training Set\n",
        "# 1. mean_squared_error\n",
        "mse_gbr= mean_squared_error(y_train,y_pred_train_gbr)\n",
        "print('MSE :' , mse_gbr)\n",
        "#2. Root_mean_squared_error\n",
        "rmse_gbr=np.sqrt(mse_gbr)\n",
        "print('RMSE :' , rmse_gbr)\n",
        "#3. mean_absolute_error\n",
        "mae_gbr=mean_absolute_error(y_train,y_pred_train_gbr)\n",
        "print('MAE :' ,mae_gbr)\n",
        "#4. coefficient of determination(r2_score)\n",
        "r2_gbr=r2_score(y_train,y_pred_train_gbr)\n",
        "print('R2 :' ,r2_gbr)\n",
        "#5. adjusted  coefficient of determination\n",
        "adjusted_r2_gbr=(1-(1-r2_score(y_train,y_pred_train_gbr))*((X_train.shape[0]-1)/(X_train.shape[0]-X_train.shape[1]-1)))\n",
        "print('Adjusted R2 :' ,adjusted_r2_gbr)"
      ],
      "metadata": {
        "id": "5P1fkjN7w-Rw"
      },
      "execution_count": null,
      "outputs": []
    },
    {
      "cell_type": "code",
      "source": [
        "#Storing\n",
        "gbr_dict={'Model':'Gradient Boosting Regression','MAE':round(mae_gbr,2),'MSE':round(mse_gbr,2),'RMSE':round(rmse_gbr,2),'R2_score':round(r2_gbr,2),'Adjusted R2_score':round(adjusted_r2_gbr,2)}\n",
        "training_df=training_df.append(gbr_dict,ignore_index=True)"
      ],
      "metadata": {
        "id": "c3Q8DqLUwGtL"
      },
      "execution_count": null,
      "outputs": []
    },
    {
      "cell_type": "code",
      "source": [
        "# Calculate: Test Set\n",
        "# 1. mean_squared_error\n",
        "mse_gbr= mean_squared_error(y_test,y_pred_test_gbr)\n",
        "print('MSE :' , mse_gbr)\n",
        "#2. Root_mean_squared_error\n",
        "rmse_gbr=np.sqrt(mse_gbr)\n",
        "print('RMSE :' , rmse_gbr)\n",
        "#3. mean_absolute_error\n",
        "mae_gbr=mean_absolute_error(y_test,y_pred_test_gbr)\n",
        "print('MAE :' ,mae_gbr)\n",
        "#4. coefficient of determination(r2_score)\n",
        "r2_gbr=r2_score(y_test,y_pred_test_gbr)\n",
        "print('R2 :' ,r2_gbr)\n",
        "#5. adjusted  coefficient of determination\n",
        "adjusted_r2_gbr=(1-(1-r2_score(y_test,y_pred_test_gbr))*((X_test.shape[0]-1)/(X_test.shape[0]-X_test.shape[1]-1)))\n",
        "print('Adjusted R2 :' ,adjusted_r2_gbr)"
      ],
      "metadata": {
        "id": "P5qXYhyx0Cdi"
      },
      "execution_count": null,
      "outputs": []
    },
    {
      "cell_type": "code",
      "source": [
        "#Storing\n",
        "gbr_dict2={'Model':'Gradient Boosting Regression','MAE':round(mae_gbr,2),'MSE':round(mse_gbr,2),'RMSE':round(rmse_gbr,2),'R2_score':round(r2_gbr,2),'Adjusted R2_score':round(adjusted_r2_gbr,2)}\n",
        "test_df=test_df.append(gbr_dict2,ignore_index=True)"
      ],
      "metadata": {
        "id": "6EP-MafP0CZV"
      },
      "execution_count": null,
      "outputs": []
    },
    {
      "cell_type": "markdown",
      "source": [
        "### **Concluding Remark:**\n",
        "\n",
        "\n",
        "\n",
        "The gradient boosting regression model performs well on both the training and test sets:\n",
        "\n",
        "* It achieves a high R-squared (R2) value of approximately 0.86 (training set) and 0.85 (test set), indicating that around 86% and 85% of the variance in the target variable is explained by the model, respectively.\n",
        "\n",
        "* The mean squared error (MSE) values are 21.35 (training set) and 24.20 (test set), representing the average squared difference between the predicted and actual values. Lower MSE values indicate better model performance.\n",
        "\n",
        "* The root mean squared error (RMSE) values are 4.62 (training set) and 4.92 (test set), indicating the average magnitude of the errors. Smaller RMSE values suggest better model performance.\n",
        "\n",
        "* The mean absolute error (MAE) values are 3.43 (training set) and 3.71 (test set), representing the average absolute deviation of the predictions. Lower MAE values indicate better accuracy.\n",
        "\n",
        "Overall, the gradient boosting regression model demonstrates strong performance in predicting the target variable, with high R2 values and relatively low error metrics on both the training and test sets."
      ],
      "metadata": {
        "id": "N-gSP4H51evU"
      }
    },
    {
      "cell_type": "code",
      "source": [
        "# Heteroscedasticity\n",
        "residuals = y_test - y_pred_test_gbr\n",
        "sns.scatterplot(x=y_pred_test_gbr, y=residuals,color='salmon')\n",
        "\n",
        "# Add a horizontal line at y=0\n",
        "plt.axhline(y=0, color='red', linestyle='--')\n",
        "\n",
        "\n",
        "plt.xlabel('Predicted Values')\n",
        "plt.ylabel('Residuals')\n",
        "plt.title('Residual Plot')\n",
        "\n",
        "plt.show()"
      ],
      "metadata": {
        "id": "wxSXB0HmwGpv"
      },
      "execution_count": null,
      "outputs": []
    },
    {
      "cell_type": "code",
      "source": [
        "plt.figure(figsize=(16,10))\n",
        "plt.scatter(range(len(y_pred_test_gbr)),y_pred_test_gbr,s=20,c='green',label='Predicted')\n",
        "plt.scatter(range(len(y_test)), y_test, s=20, c='red', label='Actual')\n",
        "plt.legend()\n",
        "plt.xlabel('number of test data')\n",
        "plt.show()"
      ],
      "metadata": {
        "id": "VlxLKOwA218k"
      },
      "execution_count": null,
      "outputs": []
    },
    {
      "cell_type": "code",
      "source": [
        "# FEATURE IMPORTANCES:\n",
        "gbr.feature_importances_"
      ],
      "metadata": {
        "id": "Vy4XNliU215e"
      },
      "execution_count": null,
      "outputs": []
    },
    {
      "cell_type": "code",
      "source": [
        "importance=np.round(gbr.feature_importances_,2)\n",
        "importance_dict={'Feature':list(X_train.columns),'Feature Importance':importance}"
      ],
      "metadata": {
        "id": "rLhnr6jk210m"
      },
      "execution_count": null,
      "outputs": []
    },
    {
      "cell_type": "code",
      "source": [
        "importance_df=pd.DataFrame(importance_dict)\n",
        "importance_df.sort_values(by=['Feature Importance'],ascending=False)"
      ],
      "metadata": {
        "id": "-K5IRtm221xc"
      },
      "execution_count": null,
      "outputs": []
    },
    {
      "cell_type": "code",
      "source": [
        "features = X_train.columns\n",
        "importance =gbr.feature_importances_\n",
        "indices = np.argsort(importance)"
      ],
      "metadata": {
        "id": "99utMdot21so"
      },
      "execution_count": null,
      "outputs": []
    },
    {
      "cell_type": "code",
      "source": [
        "#Plot the figure\n",
        "plt.figure(figsize=(10,20))\n",
        "plt.title('Feature Importance')\n",
        "plt.barh(range(len(indices)), importance[indices], color='salmon', align='center')\n",
        "plt.yticks(range(len(indices)), [features[i] for i in indices])\n",
        "plt.xlabel('Relative Importance')\n",
        "plt.show()"
      ],
      "metadata": {
        "id": "ZDgxNmmc21kY"
      },
      "execution_count": null,
      "outputs": []
    },
    {
      "cell_type": "markdown",
      "source": [
        "###**GridSearchCV**"
      ],
      "metadata": {
        "id": "9qYRK8IH40rV"
      }
    },
    {
      "cell_type": "code",
      "source": [
        "#Provide the range of values for chosen hyperparameters\n",
        "# Number of Trees\n",
        "n_estimators=[50,80,100]\n",
        "\n",
        "#maximum depth of trees\n",
        "max_depth=[4,6,8]\n",
        "\n",
        "#minimum number of samples required to split a node\n",
        "min_sample_split=[80,120,160]\n",
        "\n",
        "#minimum number of samples required at each leaf node\n",
        "min_sample_leaf=[30,40,50]\n",
        "\n",
        "#hyperparameter Grid\n",
        "para_dict= {'n_estimators' : n_estimators,\n",
        "              'max_depth' : max_depth,\n",
        "              'min_samples_split' : min_sample_split,\n",
        "              'min_samples_leaf' : min_sample_leaf}"
      ],
      "metadata": {
        "id": "e8pB_gFu5CpG"
      },
      "execution_count": null,
      "outputs": []
    },
    {
      "cell_type": "code",
      "source": [
        "gbr=GradientBoostingRegressor()\n",
        "\n",
        "gs=GridSearchCV(estimator=gbr,param_grid=para_dict,cv=5,verbose=2)\n",
        "\n",
        "gs.fit(X_train,y_train)"
      ],
      "metadata": {
        "id": "jSVcqI8J5CcR"
      },
      "execution_count": null,
      "outputs": []
    },
    {
      "cell_type": "code",
      "source": [
        "gs.best_estimator_"
      ],
      "metadata": {
        "id": "kIGKnWgh5CXN"
      },
      "execution_count": null,
      "outputs": []
    },
    {
      "cell_type": "code",
      "source": [
        "gs_optimal_model=gs.best_estimator_\n",
        "gs.best_params_"
      ],
      "metadata": {
        "id": "X2SzIAWu5Y_x"
      },
      "execution_count": null,
      "outputs": []
    },
    {
      "cell_type": "code",
      "source": [
        "# Making predictions on train and test data\n",
        "\n",
        "y_pred_train_gs=gs_optimal_model.predict(X_train)\n",
        "y_pred_test_gs = gs_optimal_model.predict(X_test)"
      ],
      "metadata": {
        "id": "Qjbwo9k27Pm1"
      },
      "execution_count": null,
      "outputs": []
    },
    {
      "cell_type": "code",
      "source": [
        "# Calculate: Training Set\n",
        "# 1. mean_squared_error\n",
        "mse_gs= mean_squared_error(y_train,y_pred_train_gs)\n",
        "print('MSE :' , mse_gs)\n",
        "#2. Root_mean_squared_error\n",
        "rmse_gs=np.sqrt(mse_gs)\n",
        "print('RMSE :' , rmse_gs)\n",
        "#3. mean_absolute_error\n",
        "mae_gs=mean_absolute_error(y_train,y_pred_train_gs)\n",
        "print('MAE :' ,mae_gs)\n",
        "#4. coefficient of determination(r2_score)\n",
        "r2_gs=r2_score(y_train,y_pred_train_gs)\n",
        "print('R2 :' ,r2_gs)\n",
        "#5. adjusted  coefficient of determination\n",
        "adjusted_r2_gs=(1-(1-r2_score(y_train,y_pred_train_gs))*((X_train.shape[0]-1)/(X_train.shape[0]-X_train.shape[1]-1)))\n",
        "print('Adjusted R2 :' ,adjusted_r2_gs)"
      ],
      "metadata": {
        "id": "2bXhjwDo7Qrm"
      },
      "execution_count": null,
      "outputs": []
    },
    {
      "cell_type": "code",
      "source": [
        "#Storing\n",
        "gs_dict={'Model':'Gradient Boosting GridSearchCV','MAE':round(mae_gs,2),'MSE':round(mse_gs,2),'RMSE':round(rmse_gs,2),'R2_score':round(r2_gs,2),'Adjusted R2_score':round(adjusted_r2_gs,2)}\n",
        "training_df=training_df.append(gs_dict,ignore_index=True)"
      ],
      "metadata": {
        "id": "TLDFEmcI7Q9f"
      },
      "execution_count": null,
      "outputs": []
    },
    {
      "cell_type": "code",
      "source": [
        "# Calculate: Test Set\n",
        "# 1. mean_squared_error\n",
        "mse_gs= mean_squared_error(y_test,y_pred_test_gs)\n",
        "print('MSE :' , mse_gs)\n",
        "#2. Root_mean_squared_error\n",
        "rmse_gs=np.sqrt(mse_gs)\n",
        "print('RMSE :' , rmse_gs)\n",
        "#3. mean_absolute_error\n",
        "mae_gs=mean_absolute_error(y_test,y_pred_test_gs)\n",
        "print('MAE :' ,mae_gs)\n",
        "#4. coefficient of determination(r2_score)\n",
        "r2_gs=r2_score(y_test,y_pred_test_gs)\n",
        "print('R2 :' ,r2_gs)\n",
        "#5. adjusted  coefficient of determination\n",
        "adjusted_r2_gs=(1-(1-r2_score(y_test,y_pred_test_gs))*((X_test.shape[0]-1)/(X_test.shape[0]-X_test.shape[1]-1)))\n",
        "print('Adjusted R2 :' ,adjusted_r2_gs)"
      ],
      "metadata": {
        "id": "TcVqMWif7RI8"
      },
      "execution_count": null,
      "outputs": []
    },
    {
      "cell_type": "code",
      "source": [
        "#Storing\n",
        "gs_dict2={'Model':'Gradient Boosting GridSearchCV','MAE':round(mae_gs,2),'MSE':round(mse_gs,2),'RMSE':round(rmse_gs,2),'R2_score':round(r2_gs,2),'Adjusted R2_score':round(adjusted_r2_gs,2)}\n",
        "test_df=test_df.append(gs_dict2,ignore_index=True)"
      ],
      "metadata": {
        "id": "KH7RG88j7Pi4"
      },
      "execution_count": null,
      "outputs": []
    },
    {
      "cell_type": "code",
      "source": [
        "# Heteroscedasticity\n",
        "residuals = y_test - y_pred_test_gs\n",
        "sns.scatterplot(x=y_pred_test_gs, y=residuals,color='salmon')\n",
        "\n",
        "# Add a horizontal line at y=0\n",
        "plt.axhline(y=0, color='red', linestyle='--')\n",
        "\n",
        "\n",
        "plt.xlabel('Predicted Values')\n",
        "plt.ylabel('Residuals')\n",
        "plt.title('Residual Plot')\n",
        "\n",
        "plt.show()"
      ],
      "metadata": {
        "id": "FaMFWDeB7PgC"
      },
      "execution_count": null,
      "outputs": []
    },
    {
      "cell_type": "code",
      "source": [
        "plt.figure(figsize=(16,8))\n",
        "plt.scatter(range(len(y_pred_test_gs)),y_pred_test_gs,s=20,c='green',label='Predicted')\n",
        "plt.scatter(range(len(y_test)), y_test, s=20, c='red', label='Actual')\n",
        "plt.legend()\n",
        "plt.xlabel('number of test data')\n",
        "plt.show()"
      ],
      "metadata": {
        "id": "ZzRpl0_67PdG"
      },
      "execution_count": null,
      "outputs": []
    },
    {
      "cell_type": "code",
      "source": [
        "gs_optimal_model.feature_importances_"
      ],
      "metadata": {
        "id": "5U7bL6Yt7PYi"
      },
      "execution_count": null,
      "outputs": []
    },
    {
      "cell_type": "code",
      "source": [
        "imp = gs_optimal_model.feature_importances_\n",
        "\n",
        "imp_dict = {'Feature' : list(X_train.columns),\n",
        "                   'Feature Importance' : imp}\n",
        "\n",
        "imp_df = pd.DataFrame(imp_dict)"
      ],
      "metadata": {
        "id": "5jLakjZ55Y7X"
      },
      "execution_count": null,
      "outputs": []
    },
    {
      "cell_type": "code",
      "source": [
        "imp_df['Feature Importance'] = round(imp_df['Feature Importance'],2)"
      ],
      "metadata": {
        "id": "HQzFjcbe7_fA"
      },
      "execution_count": null,
      "outputs": []
    },
    {
      "cell_type": "code",
      "source": [
        "imp_df.sort_values(by=['Feature Importance'],ascending=False)"
      ],
      "metadata": {
        "id": "XPvQdqBm7_Zk"
      },
      "execution_count": null,
      "outputs": []
    },
    {
      "cell_type": "code",
      "source": [
        "features = X_train.columns\n",
        "imp1 = gs_optimal_model.feature_importances_\n",
        "indices = np.argsort(imp1)\n",
        "#Plot the figure\n",
        "plt.figure(figsize=(10,20))\n",
        "plt.title('Feature Importance')\n",
        "plt.barh(range(len(indices)), imp1[indices], color='green', align='center')\n",
        "plt.yticks(range(len(indices)), [features[i] for i in indices])\n",
        "plt.xlabel('Relative Importance')\n",
        "\n"
      ],
      "metadata": {
        "id": "2TZeSuYD7_WE"
      },
      "execution_count": null,
      "outputs": []
    },
    {
      "cell_type": "code",
      "source": [],
      "metadata": {
        "id": "i6FX3BK67_OT"
      },
      "execution_count": null,
      "outputs": []
    },
    {
      "cell_type": "markdown",
      "source": [
        "# **Conclusion**"
      ],
      "metadata": {
        "id": "gCX9965dhzqZ"
      }
    },
    {
      "cell_type": "markdown",
      "source": [
        "In our analysis, we began by conducting an exploratory data analysis (EDA) on all features in the dataset. We started by examining the dependent variable, 'Rented Bike Count,' and made necessary transformations to ensure its suitability for modeling. Moving on, we focused on the categorical variables and eliminated those with a dominant single class. For the numerical variables, we calculated correlations, studied their distributions, and analyzed their relationships with the dependent variable. Additionally, we removed numerical features mostly consisting of 0 values and performed one-hot encoding for the categorical variables.\n",
        "\n",
        "Next, we implemented five machine learning algorithms: Linear Regression, Lasso, Ridge, Elastic Net, and Gradient Booster. Hyperparameter tuning was also conducted to optimize model performance. Our evaluation yielded the following findings:"
      ],
      "metadata": {
        "id": "Fjb1IsQkh3yE"
      }
    },
    {
      "cell_type": "code",
      "source": [
        "# displaying the results of evaluation metric values for all models\n",
        "result=pd.concat([training_df,test_df],keys=['Training set','Test set'])\n",
        "result"
      ],
      "metadata": {
        "id": "y-pWFlxg9Lb2"
      },
      "execution_count": null,
      "outputs": []
    },
    {
      "cell_type": "markdown",
      "source": [
        "* Linear Regression, Lasso Regression, Ridge Regression, and Elasticnet Regression show similar performance on both the training and test sets. They have comparable MAE, MSE, RMSE, R2 score, and adjusted R2 score values, indicating consistent predictive accuracy across the two datasets.\n",
        "\n",
        "* Gradient Boosting Regression outperforms the other algorithms on the training set. It achieves significantly lower MAE, MSE, and RMSE values compared to the other models, suggesting better predictive accuracy in capturing the variation in the training data. It also exhibits a higher R2 score and adjusted R2 score, indicating a better fit to the training data.\n",
        "\n",
        "* However, Gradient Boosting Regression shows slightly reduced performance on the test set compared to the training set. Although it still performs well and has a relatively low MAE, MSE, and RMSE, its R2 score and adjusted R2 score decrease slightly, indicating a slightly weaker fit to the test data. This suggests that the model may be slightly overfitting the training data.\n",
        "\n",
        "* Gradient Boosting GridSearchCV performs the best overall on both the training and test sets. It achieves the lowest MAE, MSE, and RMSE values, indicating superior predictive accuracy and better capturing of variations in the target variable. It also demonstrates the highest R2 score and adjusted R2 score, implying the best fit to the data.\n",
        "\n",
        "In summary, the Gradient Boosting GridSearchCV model stands out as the most effective algorithm for predicting the 'Rented Bike Count' based on the given evaluation metrics. It provides the lowest errors, highest R2 score, and adjusted R2 score, indicating its superior performance in capturing the underlying patterns in the dataset."
      ],
      "metadata": {
        "id": "2h9cfkGc9hAS"
      }
    },
    {
      "cell_type": "markdown",
      "source": [
        "### ***Hurrah! You have successfully completed your Machine Learning Capstone Project !!!***"
      ],
      "metadata": {
        "id": "gIfDvo9L0UH2"
      }
    }
  ]
}